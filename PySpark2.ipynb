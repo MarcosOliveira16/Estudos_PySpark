{
  "cells": [
    {
      "cell_type": "markdown",
      "source": [
        "# CONFIGURAÇÃO DO AMBIENTE"
      ],
      "metadata": {
        "id": "J7Vm6tjpQArv"
      },
      "id": "J7Vm6tjpQArv"
    },
    {
      "cell_type": "code",
      "execution_count": null,
      "id": "ba005d7f",
      "metadata": {
        "colab": {
          "base_uri": "https://localhost:8080/"
        },
        "id": "ba005d7f",
        "outputId": "4addbf63-68e5-409d-826a-a870338f8a71"
      },
      "outputs": [
        {
          "output_type": "stream",
          "name": "stdout",
          "text": [
            "Collecting pyspark\n",
            "  Downloading pyspark-3.5.3.tar.gz (317.3 MB)\n",
            "\u001b[2K     \u001b[90m━━━━━━━━━━━━━━━━━━━━━━━━━━━━━━━━━━━━━━━━\u001b[0m \u001b[32m317.3/317.3 MB\u001b[0m \u001b[31m4.1 MB/s\u001b[0m eta \u001b[36m0:00:00\u001b[0m\n",
            "\u001b[?25h  Preparing metadata (setup.py) ... \u001b[?25l\u001b[?25hdone\n",
            "Requirement already satisfied: py4j==0.10.9.7 in /usr/local/lib/python3.10/dist-packages (from pyspark) (0.10.9.7)\n",
            "Building wheels for collected packages: pyspark\n",
            "  Building wheel for pyspark (setup.py) ... \u001b[?25l\u001b[?25hdone\n",
            "  Created wheel for pyspark: filename=pyspark-3.5.3-py2.py3-none-any.whl size=317840625 sha256=b028686aea7c276e9909dd124f32e645a12ef9e0059dfaa852d5bb291cd4f96f\n",
            "  Stored in directory: /root/.cache/pip/wheels/1b/3a/92/28b93e2fbfdbb07509ca4d6f50c5e407f48dce4ddbda69a4ab\n",
            "Successfully built pyspark\n",
            "Installing collected packages: pyspark\n",
            "Successfully installed pyspark-3.5.3\n"
          ]
        }
      ],
      "source": [
        "!pip install pyspark"
      ]
    },
    {
      "cell_type": "code",
      "execution_count": null,
      "id": "c9c7af16",
      "metadata": {
        "colab": {
          "base_uri": "https://localhost:8080/"
        },
        "id": "c9c7af16",
        "outputId": "68bb4454-dec2-4a04-81fe-30f757297e77"
      },
      "outputs": [
        {
          "output_type": "stream",
          "name": "stdout",
          "text": [
            "Package                            Version\n",
            "---------------------------------- -------------------\n",
            "absl-py                            1.4.0\n",
            "accelerate                         0.34.2\n",
            "aiohappyeyeballs                   2.4.3\n",
            "aiohttp                            3.10.9\n",
            "aiosignal                          1.3.1\n",
            "alabaster                          0.7.16\n",
            "albucore                           0.0.16\n",
            "albumentations                     1.4.15\n",
            "altair                             4.2.2\n",
            "annotated-types                    0.7.0\n",
            "anyio                              3.7.1\n",
            "argon2-cffi                        23.1.0\n",
            "argon2-cffi-bindings               21.2.0\n",
            "array_record                       0.5.1\n",
            "arviz                              0.19.0\n",
            "astropy                            6.1.4\n",
            "astropy-iers-data                  0.2024.10.7.0.32.46\n",
            "astunparse                         1.6.3\n",
            "async-timeout                      4.0.3\n",
            "atpublic                           4.1.0\n",
            "attrs                              24.2.0\n",
            "audioread                          3.0.1\n",
            "autograd                           1.7.0\n",
            "babel                              2.16.0\n",
            "backcall                           0.2.0\n",
            "beautifulsoup4                     4.12.3\n",
            "bigframes                          1.21.0\n",
            "bigquery-magics                    0.4.0\n",
            "bleach                             6.1.0\n",
            "blinker                            1.4\n",
            "blis                               0.7.11\n",
            "blosc2                             2.0.0\n",
            "bokeh                              3.4.3\n",
            "Bottleneck                         1.4.0\n",
            "bqplot                             0.12.43\n",
            "branca                             0.8.0\n",
            "build                              1.2.2.post1\n",
            "CacheControl                       0.14.0\n",
            "cachetools                         5.5.0\n",
            "catalogue                          2.0.10\n",
            "certifi                            2024.8.30\n",
            "cffi                               1.17.1\n",
            "chardet                            5.2.0\n",
            "charset-normalizer                 3.3.2\n",
            "chex                               0.1.87\n",
            "clarabel                           0.9.0\n",
            "click                              8.1.7\n",
            "cloudpathlib                       0.19.0\n",
            "cloudpickle                        2.2.1\n",
            "cmake                              3.30.4\n",
            "cmdstanpy                          1.2.4\n",
            "colorcet                           3.1.0\n",
            "colorlover                         0.3.0\n",
            "colour                             0.1.5\n",
            "community                          1.0.0b1\n",
            "confection                         0.1.5\n",
            "cons                               0.4.6\n",
            "contextlib2                        21.6.0\n",
            "contourpy                          1.3.0\n",
            "cryptography                       43.0.1\n",
            "cuda-python                        12.2.1\n",
            "cudf-cu12                          24.6.1\n",
            "cufflinks                          0.17.3\n",
            "cupy-cuda12x                       12.2.0\n",
            "cvxopt                             1.3.2\n",
            "cvxpy                              1.5.3\n",
            "cycler                             0.12.1\n",
            "cymem                              2.0.8\n",
            "Cython                             3.0.11\n",
            "dask                               2024.8.0\n",
            "datascience                        0.17.6\n",
            "db-dtypes                          1.3.0\n",
            "dbus-python                        1.2.18\n",
            "debugpy                            1.6.6\n",
            "decorator                          4.4.2\n",
            "defusedxml                         0.7.1\n",
            "Deprecated                         1.2.14\n",
            "distributed                        2024.8.0\n",
            "distro                             1.7.0\n",
            "dlib                               19.24.2\n",
            "dm-tree                            0.1.8\n",
            "docstring_parser                   0.16\n",
            "docutils                           0.18.1\n",
            "dopamine_rl                        4.0.9\n",
            "duckdb                             1.1.1\n",
            "earthengine-api                    1.0.0\n",
            "easydict                           1.13\n",
            "ecos                               2.0.14\n",
            "editdistance                       0.8.1\n",
            "eerepr                             0.0.4\n",
            "einops                             0.8.0\n",
            "en-core-web-sm                     3.7.1\n",
            "entrypoints                        0.4\n",
            "et-xmlfile                         1.1.0\n",
            "etils                              1.9.4\n",
            "etuples                            0.3.9\n",
            "eval_type_backport                 0.2.0\n",
            "exceptiongroup                     1.2.2\n",
            "fastai                             2.7.17\n",
            "fastcore                           1.7.11\n",
            "fastdownload                       0.0.7\n",
            "fastjsonschema                     2.20.0\n",
            "fastprogress                       1.0.3\n",
            "fastrlock                          0.8.2\n",
            "filelock                           3.16.1\n",
            "firebase-admin                     6.5.0\n",
            "Flask                              2.2.5\n",
            "flatbuffers                        24.3.25\n",
            "flax                               0.8.5\n",
            "folium                             0.17.0\n",
            "fonttools                          4.54.1\n",
            "frozendict                         2.4.5\n",
            "frozenlist                         1.4.1\n",
            "fsspec                             2024.6.1\n",
            "future                             1.0.0\n",
            "gast                               0.6.0\n",
            "gcsfs                              2024.6.1\n",
            "GDAL                               3.6.4\n",
            "gdown                              5.2.0\n",
            "geemap                             0.34.5\n",
            "gensim                             4.3.3\n",
            "geocoder                           1.38.1\n",
            "geographiclib                      2.0\n",
            "geopandas                          1.0.1\n",
            "geopy                              2.4.1\n",
            "gin-config                         0.5.0\n",
            "glob2                              0.7\n",
            "google                             2.0.3\n",
            "google-ai-generativelanguage       0.6.6\n",
            "google-api-core                    2.19.2\n",
            "google-api-python-client           2.137.0\n",
            "google-auth                        2.27.0\n",
            "google-auth-httplib2               0.2.0\n",
            "google-auth-oauthlib               1.2.1\n",
            "google-cloud-aiplatform            1.69.0\n",
            "google-cloud-bigquery              3.25.0\n",
            "google-cloud-bigquery-connection   1.15.5\n",
            "google-cloud-bigquery-storage      2.26.0\n",
            "google-cloud-bigtable              2.26.0\n",
            "google-cloud-core                  2.4.1\n",
            "google-cloud-datastore             2.19.0\n",
            "google-cloud-firestore             2.16.1\n",
            "google-cloud-functions             1.16.5\n",
            "google-cloud-iam                   2.15.2\n",
            "google-cloud-language              2.13.4\n",
            "google-cloud-pubsub                2.25.2\n",
            "google-cloud-resource-manager      1.12.5\n",
            "google-cloud-storage               2.8.0\n",
            "google-cloud-translate             3.15.5\n",
            "google-colab                       1.0.0\n",
            "google-crc32c                      1.6.0\n",
            "google-generativeai                0.7.2\n",
            "google-pasta                       0.2.0\n",
            "google-resumable-media             2.7.2\n",
            "googleapis-common-protos           1.65.0\n",
            "googledrivedownloader              0.4\n",
            "graphviz                           0.20.3\n",
            "greenlet                           3.1.1\n",
            "grpc-google-iam-v1                 0.13.1\n",
            "grpcio                             1.64.1\n",
            "grpcio-status                      1.48.2\n",
            "gspread                            6.0.2\n",
            "gspread-dataframe                  3.3.1\n",
            "gym                                0.25.2\n",
            "gym-notices                        0.0.8\n",
            "h5netcdf                           1.4.0\n",
            "h5py                               3.11.0\n",
            "holidays                           0.57\n",
            "holoviews                          1.19.1\n",
            "html5lib                           1.1\n",
            "httpimport                         1.4.0\n",
            "httplib2                           0.22.0\n",
            "huggingface-hub                    0.24.7\n",
            "humanize                           4.10.0\n",
            "hyperopt                           0.2.7\n",
            "ibis-framework                     9.2.0\n",
            "idna                               3.10\n",
            "imageio                            2.35.1\n",
            "imageio-ffmpeg                     0.5.1\n",
            "imagesize                          1.4.1\n",
            "imbalanced-learn                   0.12.4\n",
            "imgaug                             0.4.0\n",
            "immutabledict                      4.2.0\n",
            "importlib_metadata                 8.4.0\n",
            "importlib_resources                6.4.5\n",
            "imutils                            0.5.4\n",
            "inflect                            7.4.0\n",
            "iniconfig                          2.0.0\n",
            "intel-cmplr-lib-ur                 2024.2.1\n",
            "intel-openmp                       2024.2.1\n",
            "ipyevents                          2.0.2\n",
            "ipyfilechooser                     0.6.0\n",
            "ipykernel                          5.5.6\n",
            "ipyleaflet                         0.19.2\n",
            "ipyparallel                        8.8.0\n",
            "ipython                            7.34.0\n",
            "ipython-genutils                   0.2.0\n",
            "ipython-sql                        0.5.0\n",
            "ipytree                            0.2.2\n",
            "ipywidgets                         7.7.1\n",
            "itsdangerous                       2.2.0\n",
            "jax                                0.4.33\n",
            "jax-cuda12-pjrt                    0.4.33\n",
            "jax-cuda12-plugin                  0.4.33\n",
            "jaxlib                             0.4.33\n",
            "jeepney                            0.7.1\n",
            "jellyfish                          1.1.0\n",
            "jieba                              0.42.1\n",
            "Jinja2                             3.1.4\n",
            "joblib                             1.4.2\n",
            "jsonpickle                         3.3.0\n",
            "jsonschema                         4.23.0\n",
            "jsonschema-specifications          2023.12.1\n",
            "jupyter-client                     6.1.12\n",
            "jupyter-console                    6.1.0\n",
            "jupyter_core                       5.7.2\n",
            "jupyter-leaflet                    0.19.2\n",
            "jupyter-server                     1.24.0\n",
            "jupyterlab_pygments                0.3.0\n",
            "jupyterlab_widgets                 3.0.13\n",
            "kaggle                             1.6.17\n",
            "kagglehub                          0.3.1\n",
            "keras                              3.4.1\n",
            "keyring                            23.5.0\n",
            "kiwisolver                         1.4.7\n",
            "langcodes                          3.4.1\n",
            "language_data                      1.2.0\n",
            "launchpadlib                       1.10.16\n",
            "lazr.restfulclient                 0.14.4\n",
            "lazr.uri                           1.0.6\n",
            "lazy_loader                        0.4\n",
            "libclang                           18.1.1\n",
            "librosa                            0.10.2.post1\n",
            "lightgbm                           4.5.0\n",
            "linkify-it-py                      2.0.3\n",
            "llvmlite                           0.43.0\n",
            "locket                             1.0.0\n",
            "logical-unification                0.4.6\n",
            "lxml                               4.9.4\n",
            "marisa-trie                        1.2.0\n",
            "Markdown                           3.7\n",
            "markdown-it-py                     3.0.0\n",
            "MarkupSafe                         2.1.5\n",
            "matplotlib                         3.7.1\n",
            "matplotlib-inline                  0.1.7\n",
            "matplotlib-venn                    1.1.1\n",
            "mdit-py-plugins                    0.4.2\n",
            "mdurl                              0.1.2\n",
            "miniKanren                         1.0.3\n",
            "missingno                          0.5.2\n",
            "mistune                            0.8.4\n",
            "mizani                             0.11.4\n",
            "mkl                                2024.2.2\n",
            "ml-dtypes                          0.4.1\n",
            "mlxtend                            0.23.1\n",
            "more-itertools                     10.5.0\n",
            "moviepy                            1.0.3\n",
            "mpmath                             1.3.0\n",
            "msgpack                            1.0.8\n",
            "multidict                          6.1.0\n",
            "multipledispatch                   1.0.0\n",
            "multitasking                       0.0.11\n",
            "murmurhash                         1.0.10\n",
            "music21                            9.1.0\n",
            "namex                              0.0.8\n",
            "natsort                            8.4.0\n",
            "nbclassic                          1.1.0\n",
            "nbclient                           0.10.0\n",
            "nbconvert                          6.5.4\n",
            "nbformat                           5.10.4\n",
            "nest-asyncio                       1.6.0\n",
            "networkx                           3.3\n",
            "nibabel                            5.2.1\n",
            "nltk                               3.8.1\n",
            "notebook                           6.5.5\n",
            "notebook_shim                      0.2.4\n",
            "numba                              0.60.0\n",
            "numexpr                            2.10.1\n",
            "numpy                              1.26.4\n",
            "nvidia-cublas-cu12                 12.6.3.3\n",
            "nvidia-cuda-cupti-cu12             12.6.80\n",
            "nvidia-cuda-nvcc-cu12              12.6.77\n",
            "nvidia-cuda-runtime-cu12           12.6.77\n",
            "nvidia-cudnn-cu12                  9.4.0.58\n",
            "nvidia-cufft-cu12                  11.3.0.4\n",
            "nvidia-cusolver-cu12               11.7.1.2\n",
            "nvidia-cusparse-cu12               12.5.4.2\n",
            "nvidia-nccl-cu12                   2.23.4\n",
            "nvidia-nvjitlink-cu12              12.6.77\n",
            "nvtx                               0.2.10\n",
            "oauth2client                       4.1.3\n",
            "oauthlib                           3.2.2\n",
            "opencv-contrib-python              4.10.0.84\n",
            "opencv-python                      4.10.0.84\n",
            "opencv-python-headless             4.10.0.84\n",
            "openpyxl                           3.1.5\n",
            "opentelemetry-api                  1.27.0\n",
            "opentelemetry-sdk                  1.27.0\n",
            "opentelemetry-semantic-conventions 0.48b0\n",
            "opt_einsum                         3.4.0\n",
            "optax                              0.2.3\n",
            "optree                             0.13.0\n",
            "orbax-checkpoint                   0.6.4\n",
            "osqp                               0.6.7.post0\n",
            "packaging                          24.1\n",
            "pandas                             2.2.2\n",
            "pandas-datareader                  0.10.0\n",
            "pandas-gbq                         0.23.2\n",
            "pandas-stubs                       2.2.2.240909\n",
            "pandocfilters                      1.5.1\n",
            "panel                              1.4.5\n",
            "param                              2.1.1\n",
            "parso                              0.8.4\n",
            "parsy                              2.1\n",
            "partd                              1.4.2\n",
            "pathlib                            1.0.1\n",
            "patsy                              0.5.6\n",
            "peewee                             3.17.6\n",
            "pexpect                            4.9.0\n",
            "pickleshare                        0.7.5\n",
            "pillow                             10.4.0\n",
            "pip                                24.1.2\n",
            "pip-tools                          7.4.1\n",
            "platformdirs                       4.3.6\n",
            "plotly                             5.24.1\n",
            "plotnine                           0.13.6\n",
            "pluggy                             1.5.0\n",
            "polars                             1.7.1\n",
            "pooch                              1.8.2\n",
            "portpicker                         1.5.2\n",
            "prefetch_generator                 1.0.3\n",
            "preshed                            3.0.9\n",
            "prettytable                        3.11.0\n",
            "proglog                            0.1.10\n",
            "progressbar2                       4.5.0\n",
            "prometheus_client                  0.21.0\n",
            "promise                            2.3\n",
            "prompt_toolkit                     3.0.48\n",
            "prophet                            1.1.6\n",
            "proto-plus                         1.24.0\n",
            "protobuf                           3.20.3\n",
            "psutil                             5.9.5\n",
            "psycopg2                           2.9.9\n",
            "ptyprocess                         0.7.0\n",
            "py-cpuinfo                         9.0.0\n",
            "py4j                               0.10.9.7\n",
            "pyarrow                            16.1.0\n",
            "pyarrow-hotfix                     0.6\n",
            "pyasn1                             0.6.1\n",
            "pyasn1_modules                     0.4.1\n",
            "pycocotools                        2.0.8\n",
            "pycparser                          2.22\n",
            "pydantic                           2.9.2\n",
            "pydantic_core                      2.23.4\n",
            "pydata-google-auth                 1.8.2\n",
            "pydot                              3.0.2\n",
            "pydot-ng                           2.0.0\n",
            "pydotplus                          2.0.2\n",
            "PyDrive                            1.3.1\n",
            "PyDrive2                           1.20.0\n",
            "pyerfa                             2.0.1.4\n",
            "pygame                             2.6.1\n",
            "Pygments                           2.18.0\n",
            "PyGObject                          3.42.1\n",
            "PyJWT                              2.9.0\n",
            "pymc                               5.16.2\n",
            "pymystem3                          0.2.0\n",
            "pynvjitlink-cu12                   0.3.0\n",
            "pyogrio                            0.10.0\n",
            "PyOpenGL                           3.1.7\n",
            "pyOpenSSL                          24.2.1\n",
            "pyparsing                          3.1.4\n",
            "pyperclip                          1.9.0\n",
            "pyproj                             3.7.0\n",
            "pyproject_hooks                    1.2.0\n",
            "pyshp                              2.3.1\n",
            "PySocks                            1.7.1\n",
            "pyspark                            3.5.3\n",
            "pytensor                           2.25.5\n",
            "pytest                             7.4.4\n",
            "python-apt                         0.0.0\n",
            "python-box                         7.2.0\n",
            "python-dateutil                    2.8.2\n",
            "python-louvain                     0.16\n",
            "python-slugify                     8.0.4\n",
            "python-utils                       3.9.0\n",
            "pytz                               2024.2\n",
            "pyviz_comms                        3.0.3\n",
            "PyYAML                             6.0.2\n",
            "pyzmq                              24.0.1\n",
            "qdldl                              0.1.7.post4\n",
            "ratelim                            0.1.6\n",
            "referencing                        0.35.1\n",
            "regex                              2024.9.11\n",
            "requests                           2.32.3\n",
            "requests-oauthlib                  1.3.1\n",
            "requirements-parser                0.9.0\n",
            "rich                               13.9.2\n",
            "rmm-cu12                           24.6.0\n",
            "rpds-py                            0.20.0\n",
            "rpy2                               3.4.2\n",
            "rsa                                4.9\n",
            "safetensors                        0.4.5\n",
            "scikit-image                       0.24.0\n",
            "scikit-learn                       1.5.2\n",
            "scipy                              1.13.1\n",
            "scooby                             0.10.0\n",
            "scs                                3.2.7\n",
            "seaborn                            0.13.2\n",
            "SecretStorage                      3.3.1\n",
            "Send2Trash                         1.8.3\n",
            "sentencepiece                      0.2.0\n",
            "setuptools                         71.0.4\n",
            "shapely                            2.0.6\n",
            "shellingham                        1.5.4\n",
            "simple-parsing                     0.1.6\n",
            "six                                1.16.0\n",
            "sklearn-pandas                     2.2.0\n",
            "smart-open                         7.0.5\n",
            "sniffio                            1.3.1\n",
            "snowballstemmer                    2.2.0\n",
            "sortedcontainers                   2.4.0\n",
            "soundfile                          0.12.1\n",
            "soupsieve                          2.6\n",
            "soxr                               0.5.0.post1\n",
            "spacy                              3.7.5\n",
            "spacy-legacy                       3.0.12\n",
            "spacy-loggers                      1.0.5\n",
            "Sphinx                             5.0.2\n",
            "sphinxcontrib-applehelp            2.0.0\n",
            "sphinxcontrib-devhelp              2.0.0\n",
            "sphinxcontrib-htmlhelp             2.1.0\n",
            "sphinxcontrib-jsmath               1.0.1\n",
            "sphinxcontrib-qthelp               2.0.0\n",
            "sphinxcontrib-serializinghtml      2.0.0\n",
            "SQLAlchemy                         2.0.35\n",
            "sqlglot                            25.1.0\n",
            "sqlparse                           0.5.1\n",
            "srsly                              2.4.8\n",
            "stanio                             0.5.1\n",
            "statsmodels                        0.14.4\n",
            "StrEnum                            0.4.15\n",
            "sympy                              1.13.3\n",
            "tables                             3.8.0\n",
            "tabulate                           0.9.0\n",
            "tbb                                2021.13.1\n",
            "tblib                              3.0.0\n",
            "tenacity                           9.0.0\n",
            "tensorboard                        2.17.0\n",
            "tensorboard-data-server            0.7.2\n",
            "tensorflow                         2.17.0\n",
            "tensorflow-datasets                4.9.6\n",
            "tensorflow-hub                     0.16.1\n",
            "tensorflow-io-gcs-filesystem       0.37.1\n",
            "tensorflow-metadata                1.16.0\n",
            "tensorflow-probability             0.24.0\n",
            "tensorstore                        0.1.66\n",
            "termcolor                          2.5.0\n",
            "terminado                          0.18.1\n",
            "text-unidecode                     1.3\n",
            "textblob                           0.17.1\n",
            "tf_keras                           2.17.0\n",
            "tf-slim                            1.1.0\n",
            "thinc                              8.2.5\n",
            "threadpoolctl                      3.5.0\n",
            "tifffile                           2024.9.20\n",
            "tinycss2                           1.3.0\n",
            "tokenizers                         0.19.1\n",
            "toml                               0.10.2\n",
            "tomli                              2.0.2\n",
            "toolz                              0.12.1\n",
            "torch                              2.4.1+cu121\n",
            "torchaudio                         2.4.1+cu121\n",
            "torchsummary                       1.5.1\n",
            "torchvision                        0.19.1+cu121\n",
            "tornado                            6.3.3\n",
            "tqdm                               4.66.5\n",
            "traitlets                          5.7.1\n",
            "traittypes                         0.2.1\n",
            "transformers                       4.44.2\n",
            "tweepy                             4.14.0\n",
            "typeguard                          4.3.0\n",
            "typer                              0.12.5\n",
            "types-pytz                         2024.2.0.20241003\n",
            "types-setuptools                   75.1.0.20240917\n",
            "typing_extensions                  4.12.2\n",
            "tzdata                             2024.2\n",
            "tzlocal                            5.2\n",
            "uc-micro-py                        1.0.3\n",
            "uritemplate                        4.1.1\n",
            "urllib3                            2.2.3\n",
            "vega-datasets                      0.9.0\n",
            "wadllib                            1.3.6\n",
            "wasabi                             1.1.3\n",
            "wcwidth                            0.2.13\n",
            "weasel                             0.4.1\n",
            "webcolors                          24.8.0\n",
            "webencodings                       0.5.1\n",
            "websocket-client                   1.8.0\n",
            "Werkzeug                           3.0.4\n",
            "wheel                              0.44.0\n",
            "widgetsnbextension                 3.6.9\n",
            "wordcloud                          1.9.3\n",
            "wrapt                              1.16.0\n",
            "xarray                             2024.9.0\n",
            "xarray-einstats                    0.8.0\n",
            "xgboost                            2.1.1\n",
            "xlrd                               2.0.1\n",
            "xyzservices                        2024.9.0\n",
            "yarl                               1.13.1\n",
            "yellowbrick                        1.5\n",
            "yfinance                           0.2.44\n",
            "zict                               3.0.0\n",
            "zipp                               3.20.2\n"
          ]
        }
      ],
      "source": [
        "!pip list"
      ]
    },
    {
      "cell_type": "code",
      "execution_count": null,
      "id": "f7b80a79",
      "metadata": {
        "colab": {
          "base_uri": "https://localhost:8080/"
        },
        "id": "f7b80a79",
        "outputId": "cc7dc495-0c9c-48f2-c70c-0c5bc684019f"
      },
      "outputs": [
        {
          "output_type": "stream",
          "name": "stdout",
          "text": [
            "3.5.3\n"
          ]
        }
      ],
      "source": [
        "import pyspark\n",
        "print(pyspark.__version__)"
      ]
    },
    {
      "cell_type": "markdown",
      "source": [
        "# Spark SQL"
      ],
      "metadata": {
        "id": "861nJd_yBNQs"
      },
      "id": "861nJd_yBNQs"
    },
    {
      "cell_type": "code",
      "source": [
        "# importações desta etapa\n",
        "from pyspark.sql import SparkSession\n",
        "from pyspark.sql.types import *\n",
        "\n",
        "# Criando uma sessão Spark\n",
        "spark = SparkSession.builder.appName(\"MeuApp\").getOrCreate()"
      ],
      "metadata": {
        "id": "By5R-9BnBQlV"
      },
      "id": "By5R-9BnBQlV",
      "execution_count": null,
      "outputs": []
    },
    {
      "cell_type": "code",
      "source": [
        "# comando SQL: spark.sql(\"comando vem aqui\")\n",
        "# o comando funciona como uma consulta, logo vai retorna um dataframe\n",
        "# logo temos q usar o 'show' ou atribuir a uma variavel\n",
        "spark.sql(\"show databases\").show()"
      ],
      "metadata": {
        "colab": {
          "base_uri": "https://localhost:8080/"
        },
        "id": "9V1wWBUDClOk",
        "outputId": "2f48a9f2-e11a-45b2-ea8b-995b7fc9e99d"
      },
      "id": "9V1wWBUDClOk",
      "execution_count": null,
      "outputs": [
        {
          "output_type": "stream",
          "name": "stdout",
          "text": [
            "+---------+\n",
            "|namespace|\n",
            "+---------+\n",
            "|  default|\n",
            "+---------+\n",
            "\n"
          ]
        }
      ]
    },
    {
      "cell_type": "code",
      "source": [
        "# criando tabela no SQL\n",
        "spark.sql(\"create database desp\")"
      ],
      "metadata": {
        "id": "S3R3Hk0uC2aK",
        "colab": {
          "base_uri": "https://localhost:8080/"
        },
        "outputId": "226b8c30-c9c4-4aef-9bf2-37469df31e74"
      },
      "id": "S3R3Hk0uC2aK",
      "execution_count": null,
      "outputs": [
        {
          "output_type": "execute_result",
          "data": {
            "text/plain": [
              "DataFrame[]"
            ]
          },
          "metadata": {},
          "execution_count": 11
        }
      ]
    },
    {
      "cell_type": "code",
      "source": [
        "# verifiando os bancos existentes\n",
        "spark.sql(\"show databases\").show()"
      ],
      "metadata": {
        "id": "7mt25pGfDE3P",
        "colab": {
          "base_uri": "https://localhost:8080/"
        },
        "outputId": "829b4e32-4dc1-40da-b3e2-3a74290e4717"
      },
      "id": "7mt25pGfDE3P",
      "execution_count": null,
      "outputs": [
        {
          "output_type": "stream",
          "name": "stdout",
          "text": [
            "+---------+\n",
            "|namespace|\n",
            "+---------+\n",
            "|  default|\n",
            "|     desp|\n",
            "+---------+\n",
            "\n"
          ]
        }
      ]
    },
    {
      "cell_type": "code",
      "source": [
        "# conectando ao banco\n",
        "spark.sql(\"use desp\").show()"
      ],
      "metadata": {
        "id": "cgFrkcyPDKcF",
        "colab": {
          "base_uri": "https://localhost:8080/"
        },
        "outputId": "df8c0007-d737-4972-febe-0764852aeffe"
      },
      "id": "cgFrkcyPDKcF",
      "execution_count": null,
      "outputs": [
        {
          "output_type": "stream",
          "name": "stdout",
          "text": [
            "++\n",
            "||\n",
            "++\n",
            "++\n",
            "\n"
          ]
        }
      ]
    },
    {
      "cell_type": "code",
      "source": [
        "# definido o schema do o arquivo q vai ser importado\n",
        "arqschema = \"id INT, nome STRING, status STRING, cidade STRING, vendas INT, data STRING\"\n",
        "\n",
        "\n",
        "# Ler o arquivo CSV com o delimitador correto\n",
        "despachantes = spark.read.csv(\"/content/despachantes.csv\", header=False, schema= arqschema)\n",
        "\n",
        "# verificando dataframe\n",
        "despachantes.show()"
      ],
      "metadata": {
        "id": "42U6GPC4Dqv5",
        "colab": {
          "base_uri": "https://localhost:8080/"
        },
        "outputId": "335c4d92-c805-4b34-cc87-12a987fcf497"
      },
      "id": "42U6GPC4Dqv5",
      "execution_count": null,
      "outputs": [
        {
          "output_type": "stream",
          "name": "stdout",
          "text": [
            "+---+-------------------+------+-------------+------+----------+\n",
            "| id|               nome|status|       cidade|vendas|      data|\n",
            "+---+-------------------+------+-------------+------+----------+\n",
            "|  1|   Carminda Pestana| Ativo|  Santa Maria|    23|2020-08-11|\n",
            "|  2|    Deolinda Vilela| Ativo|Novo Hamburgo|    34|2020-03-05|\n",
            "|  3|   Emídio Dornelles| Ativo| Porto Alegre|    34|2020-02-05|\n",
            "|  4|Felisbela Dornelles| Ativo| Porto Alegre|    36|2020-02-05|\n",
            "|  5|     Graça Ornellas| Ativo| Porto Alegre|    12|2020-02-05|\n",
            "|  6|   Matilde Rebouças| Ativo| Porto Alegre|    22|2019-01-05|\n",
            "|  7|    Noêmia   Orriça| Ativo|  Santa Maria|    45|2019-10-05|\n",
            "|  8|      Roque Vásquez| Ativo| Porto Alegre|    65|2020-03-05|\n",
            "|  9|      Uriel Queiroz| Ativo| Porto Alegre|    54|2018-05-05|\n",
            "| 10|   Viviana Sequeira| Ativo| Porto Alegre|     0|2020-09-05|\n",
            "+---+-------------------+------+-------------+------+----------+\n",
            "\n"
          ]
        }
      ]
    },
    {
      "cell_type": "code",
      "source": [
        "# transformando o dataframe para transformar em uma tabela\n",
        "despachantes.write.saveAsTable(\"Despachantes\")\n",
        "# criamos uma tabela gerenciada! Equivalente a um banco relacional com dados e metadados"
      ],
      "metadata": {
        "id": "2e1zlTjVD45j"
      },
      "id": "2e1zlTjVD45j",
      "execution_count": null,
      "outputs": []
    },
    {
      "cell_type": "code",
      "source": [
        "# apagar tabela se necessário\n",
        "# spark.sql(\"drop table despachantes\")"
      ],
      "metadata": {
        "id": "r3dLUjqXESm_"
      },
      "id": "r3dLUjqXESm_",
      "execution_count": null,
      "outputs": []
    },
    {
      "cell_type": "code",
      "source": [
        "spark.sql(\"show tables\").show()"
      ],
      "metadata": {
        "id": "-KlGjt9PEFlb",
        "colab": {
          "base_uri": "https://localhost:8080/"
        },
        "outputId": "8388a62e-cdc0-49c7-e8c9-0c12aaaabccd"
      },
      "id": "-KlGjt9PEFlb",
      "execution_count": null,
      "outputs": [
        {
          "output_type": "stream",
          "name": "stdout",
          "text": [
            "+---------+------------+-----------+\n",
            "|namespace|   tableName|isTemporary|\n",
            "+---------+------------+-----------+\n",
            "|     desp|despachantes|      false|\n",
            "+---------+------------+-----------+\n",
            "\n"
          ]
        }
      ]
    },
    {
      "cell_type": "code",
      "source": [
        "# 'mode('overwrite')' para recriar a tabela (sobrescrever)\n",
        "despachantes.write.mode(\"overwrite\").saveAsTable(\"Despachantes\")\n",
        "\n",
        "# se houver novos registros usar o:\n",
        "# 'mode('append')' (pesquisar para ver se essa é a escrtia)"
      ],
      "metadata": {
        "id": "Fd8ESxrIE3FZ"
      },
      "id": "Fd8ESxrIE3FZ",
      "execution_count": null,
      "outputs": []
    },
    {
      "cell_type": "code",
      "source": [
        "# OBS: ao encerrar a sessão spark os dataframes se perdem, mas os objetos\n",
        "# como tabelas de banco criadas usando SQL, permanecem!"
      ],
      "metadata": {
        "id": "LYQtOjq4Fttb"
      },
      "id": "LYQtOjq4Fttb",
      "execution_count": null,
      "outputs": []
    },
    {
      "cell_type": "code",
      "source": [
        "# caso a gente perca o dataframe por encerra a sessão spark, podemos recuperá-lo\n",
        "# fazendo uma consulta, ja q o mesmo esta como objeto SQL\n",
        "\n",
        "# exemplo:\n",
        "### despachantes = spark.sql(\"select * from Despachantes\").show()\n",
        "# não executado, pois o ambiente do colab sempre é executado td após reiniciado"
      ],
      "metadata": {
        "id": "zvwxCtjnGRlL"
      },
      "id": "zvwxCtjnGRlL",
      "execution_count": null,
      "outputs": []
    },
    {
      "cell_type": "code",
      "source": [
        "despachantes.show()"
      ],
      "metadata": {
        "id": "pDMIClf5G7Ph",
        "colab": {
          "base_uri": "https://localhost:8080/"
        },
        "outputId": "904f8ce1-ecfb-43d3-de71-96daaccce04b"
      },
      "id": "pDMIClf5G7Ph",
      "execution_count": null,
      "outputs": [
        {
          "output_type": "stream",
          "name": "stdout",
          "text": [
            "+---+-------------------+------+-------------+------+----------+\n",
            "| id|               nome|status|       cidade|vendas|      data|\n",
            "+---+-------------------+------+-------------+------+----------+\n",
            "|  1|   Carminda Pestana| Ativo|  Santa Maria|    23|2020-08-11|\n",
            "|  2|    Deolinda Vilela| Ativo|Novo Hamburgo|    34|2020-03-05|\n",
            "|  3|   Emídio Dornelles| Ativo| Porto Alegre|    34|2020-02-05|\n",
            "|  4|Felisbela Dornelles| Ativo| Porto Alegre|    36|2020-02-05|\n",
            "|  5|     Graça Ornellas| Ativo| Porto Alegre|    12|2020-02-05|\n",
            "|  6|   Matilde Rebouças| Ativo| Porto Alegre|    22|2019-01-05|\n",
            "|  7|    Noêmia   Orriça| Ativo|  Santa Maria|    45|2019-10-05|\n",
            "|  8|      Roque Vásquez| Ativo| Porto Alegre|    65|2020-03-05|\n",
            "|  9|      Uriel Queiroz| Ativo| Porto Alegre|    54|2018-05-05|\n",
            "| 10|   Viviana Sequeira| Ativo| Porto Alegre|     0|2020-09-05|\n",
            "+---+-------------------+------+-------------+------+----------+\n",
            "\n"
          ]
        }
      ]
    },
    {
      "cell_type": "code",
      "source": [
        "# ao informar o caminho, o spark ja entende q se trata de uma tabela externa (não gerenciada)\n",
        "# 'option' ('path' 'caminho do arquivo')\n",
        "despachantes.write.option(\"path\", \"/content/dfimportparquet/despachantes.parquet\").saveAsTable(\"Despachantes_ng\")"
      ],
      "metadata": {
        "id": "6W4WM1ojG-JS"
      },
      "id": "6W4WM1ojG-JS",
      "execution_count": null,
      "outputs": []
    },
    {
      "cell_type": "code",
      "source": [
        "# conferindo as tabelas\n",
        "spark.sql(\"show tables\").show()"
      ],
      "metadata": {
        "id": "PzKioVURIAIG",
        "colab": {
          "base_uri": "https://localhost:8080/"
        },
        "outputId": "b68736df-e253-4840-a696-38652d124500"
      },
      "id": "PzKioVURIAIG",
      "execution_count": null,
      "outputs": [
        {
          "output_type": "stream",
          "name": "stdout",
          "text": [
            "+---------+---------------+-----------+\n",
            "|namespace|      tableName|isTemporary|\n",
            "+---------+---------------+-----------+\n",
            "|     desp|   despachantes|      false|\n",
            "|     desp|despachantes_ng|      false|\n",
            "+---------+---------------+-----------+\n",
            "\n"
          ]
        }
      ]
    },
    {
      "cell_type": "code",
      "source": [
        "# como saber se uma tabela é gerenciada ou externa\n",
        "\n",
        "# PRIMEIRA FORMA\n",
        "# tabela gerenciada\n",
        "spark.sql(\"show create table Despachantes\").show(truncate=False)"
      ],
      "metadata": {
        "id": "gq9xLXIBIHlU",
        "colab": {
          "base_uri": "https://localhost:8080/"
        },
        "outputId": "4658dbbb-6140-40a8-c7e6-9abadce129ba"
      },
      "id": "gq9xLXIBIHlU",
      "execution_count": null,
      "outputs": [
        {
          "output_type": "stream",
          "name": "stdout",
          "text": [
            "+-------------------------------------------------------------------------------------------------------------------------------------------------------------+\n",
            "|createtab_stmt                                                                                                                                               |\n",
            "+-------------------------------------------------------------------------------------------------------------------------------------------------------------+\n",
            "|CREATE TABLE spark_catalog.desp.Despachantes (\\n  id INT,\\n  nome STRING,\\n  status STRING,\\n  cidade STRING,\\n  vendas INT,\\n  data STRING)\\nUSING parquet\\n|\n",
            "+-------------------------------------------------------------------------------------------------------------------------------------------------------------+\n",
            "\n"
          ]
        }
      ]
    },
    {
      "cell_type": "code",
      "source": [
        "# tabela externa\n",
        "spark.sql(\"show create table Despachantes_ng\").show(truncate=False)\n",
        "# se aparece um 'location' é uma tabela externa"
      ],
      "metadata": {
        "id": "iP8Vhg0JIzj6",
        "colab": {
          "base_uri": "https://localhost:8080/"
        },
        "outputId": "364e1f21-a5eb-4664-b191-940c93a539f7"
      },
      "id": "iP8Vhg0JIzj6",
      "execution_count": null,
      "outputs": [
        {
          "output_type": "stream",
          "name": "stdout",
          "text": [
            "+-------------------------------------------------------------------------------------------------------------------------------------------------------------------------------------------------------------------------------+\n",
            "|createtab_stmt                                                                                                                                                                                                                 |\n",
            "+-------------------------------------------------------------------------------------------------------------------------------------------------------------------------------------------------------------------------------+\n",
            "|CREATE TABLE spark_catalog.desp.Despachantes_ng (\\n  id INT,\\n  nome STRING,\\n  status STRING,\\n  cidade STRING,\\n  vendas INT,\\n  data STRING)\\nUSING parquet\\nLOCATION 'file:/content/dfimportparquet/despachantes.parquet'\\n|\n",
            "+-------------------------------------------------------------------------------------------------------------------------------------------------------------------------------------------------------------------------------+\n",
            "\n"
          ]
        }
      ]
    },
    {
      "cell_type": "code",
      "source": [
        "# SEGUNDA FORMA\n",
        "spark.catalog.listTables()"
      ],
      "metadata": {
        "id": "nk7jYvtZJGBX",
        "colab": {
          "base_uri": "https://localhost:8080/"
        },
        "outputId": "bf610015-8372-4911-805a-4a4daf828032"
      },
      "id": "nk7jYvtZJGBX",
      "execution_count": null,
      "outputs": [
        {
          "output_type": "execute_result",
          "data": {
            "text/plain": [
              "[Table(name='despachantes', catalog='spark_catalog', namespace=['desp'], description=None, tableType='MANAGED', isTemporary=False),\n",
              " Table(name='despachantes_ng', catalog='spark_catalog', namespace=['desp'], description=None, tableType='EXTERNAL', isTemporary=False)]"
            ]
          },
          "metadata": {},
          "execution_count": 24
        }
      ]
    },
    {
      "cell_type": "code",
      "source": [
        "# sabemos como ver onde estão as tabelas externas, pois passamos os caminhos\n",
        "# na sua criação.\n",
        "\n",
        "### mas onde estão as gerenciadas?"
      ],
      "metadata": {
        "id": "eV01X5dhJdmT"
      },
      "id": "eV01X5dhJdmT",
      "execution_count": null,
      "outputs": []
    },
    {
      "cell_type": "code",
      "source": [
        "# VIEWS - APELIDO PARA UMA OU MAIS TABELAS, PARA O USUARIO VAI PARECER SO UMA TABELA\n",
        "\n",
        "# view temporaria\n",
        "despachantes.createOrReplaceTempView(\"Despachantes_view1\")"
      ],
      "metadata": {
        "id": "KIq99SlyJnTu"
      },
      "id": "KIq99SlyJnTu",
      "execution_count": null,
      "outputs": []
    },
    {
      "cell_type": "code",
      "source": [
        "spark.sql(\"select * from despachantes_view1\").show()"
      ],
      "metadata": {
        "id": "rkiAh8vDdJpT",
        "colab": {
          "base_uri": "https://localhost:8080/"
        },
        "outputId": "b2b2a04d-9a1b-4d8a-a52b-c7cff88af00c"
      },
      "id": "rkiAh8vDdJpT",
      "execution_count": null,
      "outputs": [
        {
          "output_type": "stream",
          "name": "stdout",
          "text": [
            "+---+-------------------+------+-------------+------+----------+\n",
            "| id|               nome|status|       cidade|vendas|      data|\n",
            "+---+-------------------+------+-------------+------+----------+\n",
            "|  1|   Carminda Pestana| Ativo|  Santa Maria|    23|2020-08-11|\n",
            "|  2|    Deolinda Vilela| Ativo|Novo Hamburgo|    34|2020-03-05|\n",
            "|  3|   Emídio Dornelles| Ativo| Porto Alegre|    34|2020-02-05|\n",
            "|  4|Felisbela Dornelles| Ativo| Porto Alegre|    36|2020-02-05|\n",
            "|  5|     Graça Ornellas| Ativo| Porto Alegre|    12|2020-02-05|\n",
            "|  6|   Matilde Rebouças| Ativo| Porto Alegre|    22|2019-01-05|\n",
            "|  7|    Noêmia   Orriça| Ativo|  Santa Maria|    45|2019-10-05|\n",
            "|  8|      Roque Vásquez| Ativo| Porto Alegre|    65|2020-03-05|\n",
            "|  9|      Uriel Queiroz| Ativo| Porto Alegre|    54|2018-05-05|\n",
            "| 10|   Viviana Sequeira| Ativo| Porto Alegre|     0|2020-09-05|\n",
            "+---+-------------------+------+-------------+------+----------+\n",
            "\n"
          ]
        }
      ]
    },
    {
      "cell_type": "code",
      "source": [
        "# View global\n",
        "despachantes.createOrReplaceGlobalTempView(\"Despachantes_view2\")"
      ],
      "metadata": {
        "id": "KmMLcsiSdYDy"
      },
      "id": "KmMLcsiSdYDy",
      "execution_count": null,
      "outputs": []
    },
    {
      "cell_type": "code",
      "source": [
        "# 'view' global precisa de um pré fixo\n",
        "# 'global_temp.' + nome da view\n",
        "spark.sql(\"select * from global_temp.Despachantes_view2\").show()"
      ],
      "metadata": {
        "id": "u3fBrGjfdit8",
        "colab": {
          "base_uri": "https://localhost:8080/"
        },
        "outputId": "95c95af8-5e51-4715-8c4e-94ec5d2a3df5"
      },
      "id": "u3fBrGjfdit8",
      "execution_count": null,
      "outputs": [
        {
          "output_type": "stream",
          "name": "stdout",
          "text": [
            "+---+-------------------+------+-------------+------+----------+\n",
            "| id|               nome|status|       cidade|vendas|      data|\n",
            "+---+-------------------+------+-------------+------+----------+\n",
            "|  1|   Carminda Pestana| Ativo|  Santa Maria|    23|2020-08-11|\n",
            "|  2|    Deolinda Vilela| Ativo|Novo Hamburgo|    34|2020-03-05|\n",
            "|  3|   Emídio Dornelles| Ativo| Porto Alegre|    34|2020-02-05|\n",
            "|  4|Felisbela Dornelles| Ativo| Porto Alegre|    36|2020-02-05|\n",
            "|  5|     Graça Ornellas| Ativo| Porto Alegre|    12|2020-02-05|\n",
            "|  6|   Matilde Rebouças| Ativo| Porto Alegre|    22|2019-01-05|\n",
            "|  7|    Noêmia   Orriça| Ativo|  Santa Maria|    45|2019-10-05|\n",
            "|  8|      Roque Vásquez| Ativo| Porto Alegre|    65|2020-03-05|\n",
            "|  9|      Uriel Queiroz| Ativo| Porto Alegre|    54|2018-05-05|\n",
            "| 10|   Viviana Sequeira| Ativo| Porto Alegre|     0|2020-09-05|\n",
            "+---+-------------------+------+-------------+------+----------+\n",
            "\n"
          ]
        }
      ]
    },
    {
      "cell_type": "code",
      "source": [
        "# criando views com SQL\n",
        "spark.sql(\"create or replace temp view Desp_view as select * from despachantes\")"
      ],
      "metadata": {
        "id": "Lmq2_bQndyoy",
        "colab": {
          "base_uri": "https://localhost:8080/"
        },
        "outputId": "1068adb0-f8f9-4c49-88b8-9348e1ef4800"
      },
      "id": "Lmq2_bQndyoy",
      "execution_count": null,
      "outputs": [
        {
          "output_type": "execute_result",
          "data": {
            "text/plain": [
              "DataFrame[]"
            ]
          },
          "metadata": {},
          "execution_count": 29
        }
      ]
    },
    {
      "cell_type": "code",
      "source": [
        "spark.sql(\"select * from desp_view\").show()"
      ],
      "metadata": {
        "id": "O4mM9fnJeBgb",
        "colab": {
          "base_uri": "https://localhost:8080/"
        },
        "outputId": "d3793077-14d8-4a22-b6f3-f276fdc6d6f5"
      },
      "id": "O4mM9fnJeBgb",
      "execution_count": null,
      "outputs": [
        {
          "output_type": "stream",
          "name": "stdout",
          "text": [
            "+---+-------------------+------+-------------+------+----------+\n",
            "| id|               nome|status|       cidade|vendas|      data|\n",
            "+---+-------------------+------+-------------+------+----------+\n",
            "|  1|   Carminda Pestana| Ativo|  Santa Maria|    23|2020-08-11|\n",
            "|  2|    Deolinda Vilela| Ativo|Novo Hamburgo|    34|2020-03-05|\n",
            "|  3|   Emídio Dornelles| Ativo| Porto Alegre|    34|2020-02-05|\n",
            "|  4|Felisbela Dornelles| Ativo| Porto Alegre|    36|2020-02-05|\n",
            "|  5|     Graça Ornellas| Ativo| Porto Alegre|    12|2020-02-05|\n",
            "|  6|   Matilde Rebouças| Ativo| Porto Alegre|    22|2019-01-05|\n",
            "|  7|    Noêmia   Orriça| Ativo|  Santa Maria|    45|2019-10-05|\n",
            "|  8|      Roque Vásquez| Ativo| Porto Alegre|    65|2020-03-05|\n",
            "|  9|      Uriel Queiroz| Ativo| Porto Alegre|    54|2018-05-05|\n",
            "| 10|   Viviana Sequeira| Ativo| Porto Alegre|     0|2020-09-05|\n",
            "+---+-------------------+------+-------------+------+----------+\n",
            "\n"
          ]
        }
      ]
    },
    {
      "cell_type": "code",
      "source": [
        "# criando view global com SQL\n",
        "spark.sql(\"create or replace global temp view Desp_view2 as select * from despachantes\")"
      ],
      "metadata": {
        "id": "NQfT0TcjeGNa",
        "colab": {
          "base_uri": "https://localhost:8080/"
        },
        "outputId": "42dbc500-6026-42ca-f9aa-c16bd6d5a654"
      },
      "id": "NQfT0TcjeGNa",
      "execution_count": null,
      "outputs": [
        {
          "output_type": "execute_result",
          "data": {
            "text/plain": [
              "DataFrame[]"
            ]
          },
          "metadata": {},
          "execution_count": 31
        }
      ]
    },
    {
      "cell_type": "code",
      "source": [
        "spark.sql(\"select * from global_temp.Desp_view2\").show()"
      ],
      "metadata": {
        "id": "fBXqYfareNby",
        "colab": {
          "base_uri": "https://localhost:8080/"
        },
        "outputId": "469a4162-4da9-4bbc-edb9-5488423d59ce"
      },
      "id": "fBXqYfareNby",
      "execution_count": null,
      "outputs": [
        {
          "output_type": "stream",
          "name": "stdout",
          "text": [
            "+---+-------------------+------+-------------+------+----------+\n",
            "| id|               nome|status|       cidade|vendas|      data|\n",
            "+---+-------------------+------+-------------+------+----------+\n",
            "|  1|   Carminda Pestana| Ativo|  Santa Maria|    23|2020-08-11|\n",
            "|  2|    Deolinda Vilela| Ativo|Novo Hamburgo|    34|2020-03-05|\n",
            "|  3|   Emídio Dornelles| Ativo| Porto Alegre|    34|2020-02-05|\n",
            "|  4|Felisbela Dornelles| Ativo| Porto Alegre|    36|2020-02-05|\n",
            "|  5|     Graça Ornellas| Ativo| Porto Alegre|    12|2020-02-05|\n",
            "|  6|   Matilde Rebouças| Ativo| Porto Alegre|    22|2019-01-05|\n",
            "|  7|    Noêmia   Orriça| Ativo|  Santa Maria|    45|2019-10-05|\n",
            "|  8|      Roque Vásquez| Ativo| Porto Alegre|    65|2020-03-05|\n",
            "|  9|      Uriel Queiroz| Ativo| Porto Alegre|    54|2018-05-05|\n",
            "| 10|   Viviana Sequeira| Ativo| Porto Alegre|     0|2020-09-05|\n",
            "+---+-------------------+------+-------------+------+----------+\n",
            "\n"
          ]
        }
      ]
    },
    {
      "cell_type": "code",
      "source": [
        "# tudo q se consegue fazer com 'select', se consegue tb usando a API do dataframe\n",
        "from pyspark.sql import functions as Func\n",
        "from pyspark.sql.functions import *\n",
        "\n",
        "# SQL\n",
        "spark.sql(\"select * from despachantes\").show()"
      ],
      "metadata": {
        "id": "XwAoQj3EeS7V",
        "colab": {
          "base_uri": "https://localhost:8080/"
        },
        "outputId": "e0664625-411c-4d48-8d6e-34c84ba42147"
      },
      "id": "XwAoQj3EeS7V",
      "execution_count": null,
      "outputs": [
        {
          "output_type": "stream",
          "name": "stdout",
          "text": [
            "+---+-------------------+------+-------------+------+----------+\n",
            "| id|               nome|status|       cidade|vendas|      data|\n",
            "+---+-------------------+------+-------------+------+----------+\n",
            "|  1|   Carminda Pestana| Ativo|  Santa Maria|    23|2020-08-11|\n",
            "|  2|    Deolinda Vilela| Ativo|Novo Hamburgo|    34|2020-03-05|\n",
            "|  3|   Emídio Dornelles| Ativo| Porto Alegre|    34|2020-02-05|\n",
            "|  4|Felisbela Dornelles| Ativo| Porto Alegre|    36|2020-02-05|\n",
            "|  5|     Graça Ornellas| Ativo| Porto Alegre|    12|2020-02-05|\n",
            "|  6|   Matilde Rebouças| Ativo| Porto Alegre|    22|2019-01-05|\n",
            "|  7|    Noêmia   Orriça| Ativo|  Santa Maria|    45|2019-10-05|\n",
            "|  8|      Roque Vásquez| Ativo| Porto Alegre|    65|2020-03-05|\n",
            "|  9|      Uriel Queiroz| Ativo| Porto Alegre|    54|2018-05-05|\n",
            "| 10|   Viviana Sequeira| Ativo| Porto Alegre|     0|2020-09-05|\n",
            "+---+-------------------+------+-------------+------+----------+\n",
            "\n"
          ]
        }
      ]
    },
    {
      "cell_type": "code",
      "source": [
        "# API\n",
        "despachantes.show()"
      ],
      "metadata": {
        "id": "AayOuwMfe1xc",
        "colab": {
          "base_uri": "https://localhost:8080/"
        },
        "outputId": "c974ba05-3994-4930-f812-d0d78f8bb20b"
      },
      "id": "AayOuwMfe1xc",
      "execution_count": null,
      "outputs": [
        {
          "output_type": "stream",
          "name": "stdout",
          "text": [
            "+---+-------------------+------+-------------+------+----------+\n",
            "| id|               nome|status|       cidade|vendas|      data|\n",
            "+---+-------------------+------+-------------+------+----------+\n",
            "|  1|   Carminda Pestana| Ativo|  Santa Maria|    23|2020-08-11|\n",
            "|  2|    Deolinda Vilela| Ativo|Novo Hamburgo|    34|2020-03-05|\n",
            "|  3|   Emídio Dornelles| Ativo| Porto Alegre|    34|2020-02-05|\n",
            "|  4|Felisbela Dornelles| Ativo| Porto Alegre|    36|2020-02-05|\n",
            "|  5|     Graça Ornellas| Ativo| Porto Alegre|    12|2020-02-05|\n",
            "|  6|   Matilde Rebouças| Ativo| Porto Alegre|    22|2019-01-05|\n",
            "|  7|    Noêmia   Orriça| Ativo|  Santa Maria|    45|2019-10-05|\n",
            "|  8|      Roque Vásquez| Ativo| Porto Alegre|    65|2020-03-05|\n",
            "|  9|      Uriel Queiroz| Ativo| Porto Alegre|    54|2018-05-05|\n",
            "| 10|   Viviana Sequeira| Ativo| Porto Alegre|     0|2020-09-05|\n",
            "+---+-------------------+------+-------------+------+----------+\n",
            "\n"
          ]
        }
      ]
    },
    {
      "cell_type": "code",
      "source": [
        "spark.sql(\"select nome, vendas from despachantes\").show()"
      ],
      "metadata": {
        "id": "nUL_NXSge-gf",
        "colab": {
          "base_uri": "https://localhost:8080/"
        },
        "outputId": "98af77ba-37fb-49cc-dd4c-4b9b06417e74"
      },
      "id": "nUL_NXSge-gf",
      "execution_count": null,
      "outputs": [
        {
          "output_type": "stream",
          "name": "stdout",
          "text": [
            "+-------------------+------+\n",
            "|               nome|vendas|\n",
            "+-------------------+------+\n",
            "|   Carminda Pestana|    23|\n",
            "|    Deolinda Vilela|    34|\n",
            "|   Emídio Dornelles|    34|\n",
            "|Felisbela Dornelles|    36|\n",
            "|     Graça Ornellas|    12|\n",
            "|   Matilde Rebouças|    22|\n",
            "|    Noêmia   Orriça|    45|\n",
            "|      Roque Vásquez|    65|\n",
            "|      Uriel Queiroz|    54|\n",
            "|   Viviana Sequeira|     0|\n",
            "+-------------------+------+\n",
            "\n"
          ]
        }
      ]
    },
    {
      "cell_type": "code",
      "source": [
        "despachantes.select(\"nome\", \"vendas\").show()"
      ],
      "metadata": {
        "id": "4IZrEh5Ne9uJ",
        "colab": {
          "base_uri": "https://localhost:8080/"
        },
        "outputId": "0f48df19-860f-43cd-a1ca-83116a7b4390"
      },
      "id": "4IZrEh5Ne9uJ",
      "execution_count": null,
      "outputs": [
        {
          "output_type": "stream",
          "name": "stdout",
          "text": [
            "+-------------------+------+\n",
            "|               nome|vendas|\n",
            "+-------------------+------+\n",
            "|   Carminda Pestana|    23|\n",
            "|    Deolinda Vilela|    34|\n",
            "|   Emídio Dornelles|    34|\n",
            "|Felisbela Dornelles|    36|\n",
            "|     Graça Ornellas|    12|\n",
            "|   Matilde Rebouças|    22|\n",
            "|    Noêmia   Orriça|    45|\n",
            "|      Roque Vásquez|    65|\n",
            "|      Uriel Queiroz|    54|\n",
            "|   Viviana Sequeira|     0|\n",
            "+-------------------+------+\n",
            "\n"
          ]
        }
      ]
    },
    {
      "cell_type": "code",
      "source": [
        "spark.sql(\"select nome, vendas from despachantes where vendas > 20\").show()"
      ],
      "metadata": {
        "id": "LRZP315UfICp",
        "colab": {
          "base_uri": "https://localhost:8080/"
        },
        "outputId": "aef42907-3566-4111-d0b7-c9258267580f"
      },
      "id": "LRZP315UfICp",
      "execution_count": null,
      "outputs": [
        {
          "output_type": "stream",
          "name": "stdout",
          "text": [
            "+-------------------+------+\n",
            "|               nome|vendas|\n",
            "+-------------------+------+\n",
            "|   Carminda Pestana|    23|\n",
            "|    Deolinda Vilela|    34|\n",
            "|   Emídio Dornelles|    34|\n",
            "|Felisbela Dornelles|    36|\n",
            "|   Matilde Rebouças|    22|\n",
            "|    Noêmia   Orriça|    45|\n",
            "|      Roque Vásquez|    65|\n",
            "|      Uriel Queiroz|    54|\n",
            "+-------------------+------+\n",
            "\n"
          ]
        }
      ]
    },
    {
      "cell_type": "code",
      "source": [
        "despachantes.select(\"nome\", \"vendas\").where(Func.col(\"vendas\") > 20).show()"
      ],
      "metadata": {
        "id": "zUQECJw0fMDr",
        "colab": {
          "base_uri": "https://localhost:8080/"
        },
        "outputId": "b108a7b4-3601-43d3-fba1-71a9a9b7e202"
      },
      "id": "zUQECJw0fMDr",
      "execution_count": null,
      "outputs": [
        {
          "output_type": "stream",
          "name": "stdout",
          "text": [
            "+-------------------+------+\n",
            "|               nome|vendas|\n",
            "+-------------------+------+\n",
            "|   Carminda Pestana|    23|\n",
            "|    Deolinda Vilela|    34|\n",
            "|   Emídio Dornelles|    34|\n",
            "|Felisbela Dornelles|    36|\n",
            "|   Matilde Rebouças|    22|\n",
            "|    Noêmia   Orriça|    45|\n",
            "|      Roque Vásquez|    65|\n",
            "|      Uriel Queiroz|    54|\n",
            "+-------------------+------+\n",
            "\n"
          ]
        }
      ]
    },
    {
      "cell_type": "code",
      "source": [
        "# 'order by 2' é para ordenar pela coluna de indice '2'\n",
        "spark.sql(\"select cidade, sum(vendas) from despachantes group by cidade order by 2 desc\").show()"
      ],
      "metadata": {
        "id": "blCGqifVfRJQ",
        "colab": {
          "base_uri": "https://localhost:8080/"
        },
        "outputId": "0450fbc6-8034-4535-a2ba-1d207e451db8"
      },
      "id": "blCGqifVfRJQ",
      "execution_count": null,
      "outputs": [
        {
          "output_type": "stream",
          "name": "stdout",
          "text": [
            "+-------------+-----------+\n",
            "|       cidade|sum(vendas)|\n",
            "+-------------+-----------+\n",
            "| Porto Alegre|        223|\n",
            "|  Santa Maria|         68|\n",
            "|Novo Hamburgo|         34|\n",
            "+-------------+-----------+\n",
            "\n"
          ]
        }
      ]
    },
    {
      "cell_type": "code",
      "source": [
        "despachantes.groupBy(\"cidade\").agg(sum(\"vendas\")).orderBy(Func.col(\"sum(vendas)\").desc()).show()\n"
      ],
      "metadata": {
        "id": "1zbRiIQzf0nd",
        "colab": {
          "base_uri": "https://localhost:8080/"
        },
        "outputId": "4606a548-dc54-4bbb-e3e1-47c1016fc9e9"
      },
      "id": "1zbRiIQzf0nd",
      "execution_count": null,
      "outputs": [
        {
          "output_type": "stream",
          "name": "stdout",
          "text": [
            "+-------------+-----------+\n",
            "|       cidade|sum(vendas)|\n",
            "+-------------+-----------+\n",
            "| Porto Alegre|        223|\n",
            "|  Santa Maria|         68|\n",
            "|Novo Hamburgo|         34|\n",
            "+-------------+-----------+\n",
            "\n"
          ]
        }
      ]
    },
    {
      "cell_type": "markdown",
      "source": [
        "# Spark SQL 2"
      ],
      "metadata": {
        "id": "AHLLjAiO5f6O"
      },
      "id": "AHLLjAiO5f6O"
    },
    {
      "cell_type": "code",
      "source": [
        "# criando 'schema' para 'reclamações'\n",
        "recschema = \"idrec INT, datarec STRING, iddesp INT\"\n",
        "# criando dataframe\n",
        "reclamacoes = spark.read.csv(\"/content/reclamacoes.csv\", header=False, schema= recschema)"
      ],
      "metadata": {
        "id": "CzPMWFon5lCU"
      },
      "id": "CzPMWFon5lCU",
      "execution_count": null,
      "outputs": []
    },
    {
      "cell_type": "code",
      "source": [
        "reclamacoes.show()"
      ],
      "metadata": {
        "colab": {
          "base_uri": "https://localhost:8080/"
        },
        "id": "lDeB_RJO58NE",
        "outputId": "8ec1cc1b-4606-4a00-ecb9-5f3dc4fac092"
      },
      "id": "lDeB_RJO58NE",
      "execution_count": null,
      "outputs": [
        {
          "output_type": "stream",
          "name": "stdout",
          "text": [
            "+-----+----------+------+\n",
            "|idrec|   datarec|iddesp|\n",
            "+-----+----------+------+\n",
            "|    1|2020-09-12|     2|\n",
            "|    2|2020-09-11|     2|\n",
            "|    3|2020-10-05|     4|\n",
            "|    4|2020-10-02|     5|\n",
            "|    5|2020-12-06|     5|\n",
            "|    6|2020-01-09|     5|\n",
            "|    7|2020-01-05|     9|\n",
            "+-----+----------+------+\n",
            "\n"
          ]
        }
      ]
    },
    {
      "cell_type": "code",
      "source": [
        "# criando tabela\n",
        "reclamacoes.write.saveAsTable(\"Reclamacoes\")"
      ],
      "metadata": {
        "id": "mD_EtshL6Mla"
      },
      "id": "mD_EtshL6Mla",
      "execution_count": null,
      "outputs": []
    },
    {
      "cell_type": "code",
      "source": [
        "# apagando tabela\n",
        "# spark.sql(\"drop table Reclamacoes\")"
      ],
      "metadata": {
        "colab": {
          "base_uri": "https://localhost:8080/"
        },
        "id": "STXPZoxk8BAv",
        "outputId": "3fa6bb8f-9817-4373-93f6-7c3ef0a64b1f"
      },
      "id": "STXPZoxk8BAv",
      "execution_count": null,
      "outputs": [
        {
          "output_type": "execute_result",
          "data": {
            "text/plain": [
              "DataFrame[]"
            ]
          },
          "metadata": {},
          "execution_count": 63
        }
      ]
    },
    {
      "cell_type": "code",
      "source": [
        "# 'Inner join' entre 'reclamações' e 'despachantes'\n",
        "# 'reclamacoes.*' pq queremos tds os campos de 'reclamaceos'\n",
        "spark.sql(\"select Reclamacoes.*, despachantes.nome from despachantes inner join Reclamacoes on (despachantes.id = Reclamacoes.iddesp)\").show()"
      ],
      "metadata": {
        "colab": {
          "base_uri": "https://localhost:8080/"
        },
        "id": "lbTThpOf6SXq",
        "outputId": "075bb5d8-d948-4cbf-8e97-e829a0cf512c"
      },
      "id": "lbTThpOf6SXq",
      "execution_count": null,
      "outputs": [
        {
          "output_type": "stream",
          "name": "stdout",
          "text": [
            "+-----+----------+------+-------------------+\n",
            "|idrec|   datarec|iddesp|               nome|\n",
            "+-----+----------+------+-------------------+\n",
            "|    1|2020-09-12|     2|    Deolinda Vilela|\n",
            "|    2|2020-09-11|     2|    Deolinda Vilela|\n",
            "|    3|2020-10-05|     4|Felisbela Dornelles|\n",
            "|    4|2020-10-02|     5|     Graça Ornellas|\n",
            "|    5|2020-12-06|     5|     Graça Ornellas|\n",
            "|    6|2020-01-09|     5|     Graça Ornellas|\n",
            "|    7|2020-01-05|     9|      Uriel Queiroz|\n",
            "+-----+----------+------+-------------------+\n",
            "\n"
          ]
        }
      ]
    },
    {
      "cell_type": "code",
      "source": [
        "# right join\n",
        "spark.sql(\"select Reclamacoes.*, despachantes.nome from despachantes right join Reclamacoes on (despachantes.id = Reclamacoes.iddesp)\").show()"
      ],
      "metadata": {
        "colab": {
          "base_uri": "https://localhost:8080/"
        },
        "id": "BtJpqzwo8SqZ",
        "outputId": "c941a8c3-286b-4cba-a665-5da9f1e0cf2a"
      },
      "id": "BtJpqzwo8SqZ",
      "execution_count": null,
      "outputs": [
        {
          "output_type": "stream",
          "name": "stdout",
          "text": [
            "+-----+----------+------+-------------------+\n",
            "|idrec|   datarec|iddesp|               nome|\n",
            "+-----+----------+------+-------------------+\n",
            "|    1|2020-09-12|     2|    Deolinda Vilela|\n",
            "|    2|2020-09-11|     2|    Deolinda Vilela|\n",
            "|    3|2020-10-05|     4|Felisbela Dornelles|\n",
            "|    4|2020-10-02|     5|     Graça Ornellas|\n",
            "|    5|2020-12-06|     5|     Graça Ornellas|\n",
            "|    6|2020-01-09|     5|     Graça Ornellas|\n",
            "|    7|2020-01-05|     9|      Uriel Queiroz|\n",
            "+-----+----------+------+-------------------+\n",
            "\n"
          ]
        }
      ]
    },
    {
      "cell_type": "code",
      "source": [
        "# left join - sem reclamações aparecem tb\n",
        "spark.sql(\"select Reclamacoes.*, despachantes.nome from despachantes left join Reclamacoes on (despachantes.id = Reclamacoes.iddesp)\").show()"
      ],
      "metadata": {
        "colab": {
          "base_uri": "https://localhost:8080/"
        },
        "id": "Xz_35FcX8nyQ",
        "outputId": "a3bdc1d1-f15e-4cdb-d7c9-f617bced9027"
      },
      "id": "Xz_35FcX8nyQ",
      "execution_count": null,
      "outputs": [
        {
          "output_type": "stream",
          "name": "stdout",
          "text": [
            "+-----+----------+------+-------------------+\n",
            "|idrec|   datarec|iddesp|               nome|\n",
            "+-----+----------+------+-------------------+\n",
            "| NULL|      NULL|  NULL|   Carminda Pestana|\n",
            "|    2|2020-09-11|     2|    Deolinda Vilela|\n",
            "|    1|2020-09-12|     2|    Deolinda Vilela|\n",
            "| NULL|      NULL|  NULL|   Emídio Dornelles|\n",
            "|    3|2020-10-05|     4|Felisbela Dornelles|\n",
            "|    6|2020-01-09|     5|     Graça Ornellas|\n",
            "|    5|2020-12-06|     5|     Graça Ornellas|\n",
            "|    4|2020-10-02|     5|     Graça Ornellas|\n",
            "| NULL|      NULL|  NULL|   Matilde Rebouças|\n",
            "| NULL|      NULL|  NULL|    Noêmia   Orriça|\n",
            "| NULL|      NULL|  NULL|      Roque Vásquez|\n",
            "|    7|2020-01-05|     9|      Uriel Queiroz|\n",
            "| NULL|      NULL|  NULL|   Viviana Sequeira|\n",
            "+-----+----------+------+-------------------+\n",
            "\n"
          ]
        }
      ]
    },
    {
      "cell_type": "code",
      "source": [
        "# junçoes usando a API do dataframe"
      ],
      "metadata": {
        "id": "BHVqEKVq8ylg"
      },
      "id": "BHVqEKVq8ylg",
      "execution_count": null,
      "outputs": []
    },
    {
      "cell_type": "code",
      "source": [
        "# tabela, qual coluna? == com a coluna, join de sua escolha\n",
        "despachantes.join(reclamacoes, despachantes.id == reclamacoes.iddesp, \"inner\").select(\"idrec\", \"datarec\", \"iddesp\", \"nome\").show()"
      ],
      "metadata": {
        "colab": {
          "base_uri": "https://localhost:8080/"
        },
        "id": "_y95xB879JCg",
        "outputId": "75204b77-802e-4a40-a2cc-36eedca083b0"
      },
      "id": "_y95xB879JCg",
      "execution_count": null,
      "outputs": [
        {
          "output_type": "stream",
          "name": "stdout",
          "text": [
            "+-----+----------+------+-------------------+\n",
            "|idrec|   datarec|iddesp|               nome|\n",
            "+-----+----------+------+-------------------+\n",
            "|    2|2020-09-11|     2|    Deolinda Vilela|\n",
            "|    1|2020-09-12|     2|    Deolinda Vilela|\n",
            "|    3|2020-10-05|     4|Felisbela Dornelles|\n",
            "|    6|2020-01-09|     5|     Graça Ornellas|\n",
            "|    5|2020-12-06|     5|     Graça Ornellas|\n",
            "|    4|2020-10-02|     5|     Graça Ornellas|\n",
            "|    7|2020-01-05|     9|      Uriel Queiroz|\n",
            "+-----+----------+------+-------------------+\n",
            "\n"
          ]
        }
      ]
    },
    {
      "cell_type": "code",
      "source": [
        "# left join\n",
        "despachantes.join(reclamacoes, despachantes.id == reclamacoes.iddesp, \"left\").select(\"idrec\", \"datarec\", \"iddesp\", \"nome\").show()"
      ],
      "metadata": {
        "colab": {
          "base_uri": "https://localhost:8080/"
        },
        "id": "jFgJg8Al9lm3",
        "outputId": "28877969-59a1-4336-f571-0bdf41bc6f22"
      },
      "id": "jFgJg8Al9lm3",
      "execution_count": null,
      "outputs": [
        {
          "output_type": "stream",
          "name": "stdout",
          "text": [
            "+-----+----------+------+-------------------+\n",
            "|idrec|   datarec|iddesp|               nome|\n",
            "+-----+----------+------+-------------------+\n",
            "| NULL|      NULL|  NULL|   Carminda Pestana|\n",
            "|    2|2020-09-11|     2|    Deolinda Vilela|\n",
            "|    1|2020-09-12|     2|    Deolinda Vilela|\n",
            "| NULL|      NULL|  NULL|   Emídio Dornelles|\n",
            "|    3|2020-10-05|     4|Felisbela Dornelles|\n",
            "|    6|2020-01-09|     5|     Graça Ornellas|\n",
            "|    5|2020-12-06|     5|     Graça Ornellas|\n",
            "|    4|2020-10-02|     5|     Graça Ornellas|\n",
            "| NULL|      NULL|  NULL|   Matilde Rebouças|\n",
            "| NULL|      NULL|  NULL|    Noêmia   Orriça|\n",
            "| NULL|      NULL|  NULL|      Roque Vásquez|\n",
            "|    7|2020-01-05|     9|      Uriel Queiroz|\n",
            "| NULL|      NULL|  NULL|   Viviana Sequeira|\n",
            "+-----+----------+------+-------------------+\n",
            "\n"
          ]
        }
      ]
    },
    {
      "cell_type": "markdown",
      "source": [
        "# SQL PURO"
      ],
      "metadata": {
        "id": "0azo_Lbz-QtX"
      },
      "id": "0azo_Lbz-QtX"
    },
    {
      "cell_type": "code",
      "source": [
        "# podemos usar SQL puro no Spark, porem aqui no colab não ;-;"
      ],
      "metadata": {
        "id": "8Col3XNv_ZYN"
      },
      "id": "8Col3XNv_ZYN",
      "execution_count": null,
      "outputs": []
    },
    {
      "cell_type": "code",
      "source": [
        "spark.sql(\"SHOW DATABASES\").show()"
      ],
      "metadata": {
        "colab": {
          "base_uri": "https://localhost:8080/"
        },
        "id": "hDgcUgPx-Upm",
        "outputId": "b3dac990-2422-47f2-f1ac-8423a158c77c"
      },
      "id": "hDgcUgPx-Upm",
      "execution_count": null,
      "outputs": [
        {
          "output_type": "stream",
          "name": "stdout",
          "text": [
            "+---------+\n",
            "|namespace|\n",
            "+---------+\n",
            "|  default|\n",
            "|     desp|\n",
            "+---------+\n",
            "\n"
          ]
        }
      ]
    },
    {
      "cell_type": "code",
      "source": [
        "spark.sql(\"USE desp\").show()"
      ],
      "metadata": {
        "colab": {
          "base_uri": "https://localhost:8080/"
        },
        "id": "4v2j27xu_AQu",
        "outputId": "5c3d70d3-f31e-4308-813d-e5a323e9c6c9"
      },
      "id": "4v2j27xu_AQu",
      "execution_count": null,
      "outputs": [
        {
          "output_type": "stream",
          "name": "stdout",
          "text": [
            "++\n",
            "||\n",
            "++\n",
            "++\n",
            "\n"
          ]
        }
      ]
    },
    {
      "cell_type": "code",
      "source": [
        "spark.sql(\"SHOW TABLES\").show()"
      ],
      "metadata": {
        "colab": {
          "base_uri": "https://localhost:8080/"
        },
        "id": "By-Zo7MX_EQ-",
        "outputId": "0c35b8d7-7369-4a16-90d2-b4ce356f3b1b"
      },
      "id": "By-Zo7MX_EQ-",
      "execution_count": null,
      "outputs": [
        {
          "output_type": "stream",
          "name": "stdout",
          "text": [
            "+---------+------------------+-----------+\n",
            "|namespace|         tableName|isTemporary|\n",
            "+---------+------------------+-----------+\n",
            "|     desp|      despachantes|      false|\n",
            "|     desp|   despachantes_ng|      false|\n",
            "|     desp|       reclamacoes|      false|\n",
            "|         |         desp_view|       true|\n",
            "|         |despachantes_view1|       true|\n",
            "+---------+------------------+-----------+\n",
            "\n"
          ]
        }
      ]
    },
    {
      "cell_type": "code",
      "source": [
        "spark.sql(\"SELECT * FROM despachantes\").show()"
      ],
      "metadata": {
        "colab": {
          "base_uri": "https://localhost:8080/"
        },
        "id": "PUzb_8Cp_LA2",
        "outputId": "cf1e4baa-6b5b-4d25-a456-54baed9ce8c1"
      },
      "id": "PUzb_8Cp_LA2",
      "execution_count": null,
      "outputs": [
        {
          "output_type": "stream",
          "name": "stdout",
          "text": [
            "+---+-------------------+------+-------------+------+----------+\n",
            "| id|               nome|status|       cidade|vendas|      data|\n",
            "+---+-------------------+------+-------------+------+----------+\n",
            "|  1|   Carminda Pestana| Ativo|  Santa Maria|    23|2020-08-11|\n",
            "|  2|    Deolinda Vilela| Ativo|Novo Hamburgo|    34|2020-03-05|\n",
            "|  3|   Emídio Dornelles| Ativo| Porto Alegre|    34|2020-02-05|\n",
            "|  4|Felisbela Dornelles| Ativo| Porto Alegre|    36|2020-02-05|\n",
            "|  5|     Graça Ornellas| Ativo| Porto Alegre|    12|2020-02-05|\n",
            "|  6|   Matilde Rebouças| Ativo| Porto Alegre|    22|2019-01-05|\n",
            "|  7|    Noêmia   Orriça| Ativo|  Santa Maria|    45|2019-10-05|\n",
            "|  8|      Roque Vásquez| Ativo| Porto Alegre|    65|2020-03-05|\n",
            "|  9|      Uriel Queiroz| Ativo| Porto Alegre|    54|2018-05-05|\n",
            "| 10|   Viviana Sequeira| Ativo| Porto Alegre|     0|2020-09-05|\n",
            "+---+-------------------+------+-------------+------+----------+\n",
            "\n"
          ]
        }
      ]
    },
    {
      "cell_type": "code",
      "source": [
        "spark.sql(\"SELECT * FROM despachantes WHERE vendas > 20\").show()"
      ],
      "metadata": {
        "colab": {
          "base_uri": "https://localhost:8080/"
        },
        "id": "tmS2s8A5_Oy-",
        "outputId": "4c01b187-03f2-4455-f965-909f86142472"
      },
      "id": "tmS2s8A5_Oy-",
      "execution_count": null,
      "outputs": [
        {
          "output_type": "stream",
          "name": "stdout",
          "text": [
            "+---+-------------------+------+-------------+------+----------+\n",
            "| id|               nome|status|       cidade|vendas|      data|\n",
            "+---+-------------------+------+-------------+------+----------+\n",
            "|  1|   Carminda Pestana| Ativo|  Santa Maria|    23|2020-08-11|\n",
            "|  2|    Deolinda Vilela| Ativo|Novo Hamburgo|    34|2020-03-05|\n",
            "|  3|   Emídio Dornelles| Ativo| Porto Alegre|    34|2020-02-05|\n",
            "|  4|Felisbela Dornelles| Ativo| Porto Alegre|    36|2020-02-05|\n",
            "|  6|   Matilde Rebouças| Ativo| Porto Alegre|    22|2019-01-05|\n",
            "|  7|    Noêmia   Orriça| Ativo|  Santa Maria|    45|2019-10-05|\n",
            "|  8|      Roque Vásquez| Ativo| Porto Alegre|    65|2020-03-05|\n",
            "|  9|      Uriel Queiroz| Ativo| Porto Alegre|    54|2018-05-05|\n",
            "+---+-------------------+------+-------------+------+----------+\n",
            "\n"
          ]
        }
      ]
    },
    {
      "cell_type": "markdown",
      "source": [
        "# FAÇA VC MESMO"
      ],
      "metadata": {
        "id": "Q_gU97o6_zrk"
      },
      "id": "Q_gU97o6_zrk"
    },
    {
      "cell_type": "code",
      "source": [
        "# Importe tds os arquivos '.parquet' da pasta 'download' do curso\n",
        "# Questão 1:"
      ],
      "metadata": {
        "id": "yiiDS-VKBHML"
      },
      "id": "yiiDS-VKBHML",
      "execution_count": null,
      "outputs": []
    },
    {
      "cell_type": "code",
      "source": [
        "clientes = spark.read.load(\"/content/Clientes.parquet\")"
      ],
      "metadata": {
        "id": "FyiymA7w_4a8"
      },
      "id": "FyiymA7w_4a8",
      "execution_count": null,
      "outputs": []
    },
    {
      "cell_type": "code",
      "source": [
        "clientes.show()"
      ],
      "metadata": {
        "colab": {
          "base_uri": "https://localhost:8080/"
        },
        "id": "fjC9AXnRAUnU",
        "outputId": "a8a6fbb8-afcd-4cfb-812b-60d20414cc1f"
      },
      "id": "fjC9AXnRAUnU",
      "execution_count": null,
      "outputs": [
        {
          "output_type": "stream",
          "name": "stdout",
          "text": [
            "+---------+--------------------+------+------+--------+\n",
            "|ClienteID|             Cliente|Estado|Genero|  Status|\n",
            "+---------+--------------------+------+------+--------+\n",
            "|        1|Adelina Buenaventura|    RJ|     M|  Silver|\n",
            "|        2|        Adelino Gago|    RJ|     M|  Silver|\n",
            "|        3|     Adolfo Patrício|    PE|     M|  Silver|\n",
            "|        4|    Adriana Guedelha|    RO|     F|Platinum|\n",
            "|        5|       Adélio Lisboa|    SE|     M|  Silver|\n",
            "|        6|       Adérito Bahía|    MA|     M|  Silver|\n",
            "|        7|       Aida Dorneles|    RN|     F|  Silver|\n",
            "|        8|   Alarico Quinterno|    AC|     M|  Silver|\n",
            "|        9|    Alberto Cezimbra|    AM|     M|  Silver|\n",
            "|       10|    Alberto Monsanto|    RN|     M|    Gold|\n",
            "|       11|       Albino Canela|    AC|     M|  Silver|\n",
            "|       12|     Alceste Varanda|    RR|     F|  Silver|\n",
            "|       13|  Alcides Carvalhais|    RO|     M|  Silver|\n",
            "|       14|        Aldo Martins|    GO|     M|  Silver|\n",
            "|       15|   Alexandra Tabares|    MG|     F|  Silver|\n",
            "|       16|      Alfredo Cotrim|    SC|     M|  Silver|\n",
            "|       17|     Almeno Figueira|    SC|     M|  Silver|\n",
            "|       18|      Alvito Peralta|    AM|     M|  Silver|\n",
            "|       19|     Amadeu Martinho|    RN|     M|  Silver|\n",
            "|       20|      Amélia Estévez|    PE|     F|  Silver|\n",
            "+---------+--------------------+------+------+--------+\n",
            "only showing top 20 rows\n",
            "\n"
          ]
        }
      ]
    },
    {
      "cell_type": "code",
      "source": [
        "vendas = spark.read.load(\"/content/Vendas.parquet\")"
      ],
      "metadata": {
        "id": "G56cth_DAXjE"
      },
      "id": "G56cth_DAXjE",
      "execution_count": null,
      "outputs": []
    },
    {
      "cell_type": "code",
      "source": [
        "vendas.show()"
      ],
      "metadata": {
        "colab": {
          "base_uri": "https://localhost:8080/"
        },
        "id": "IPIrIjGZAfrL",
        "outputId": "48b13f27-745f-453c-d2c7-95b4dff2ec8b"
      },
      "id": "IPIrIjGZAfrL",
      "execution_count": null,
      "outputs": [
        {
          "output_type": "stream",
          "name": "stdout",
          "text": [
            "+--------+----------+---------+---------+--------+\n",
            "|VendasID|VendedorID|ClienteID|     Data|   Total|\n",
            "+--------+----------+---------+---------+--------+\n",
            "|       1|         1|       91| 1/1/2019|  8053.6|\n",
            "|       2|         6|      185| 1/1/2020|   150.4|\n",
            "|       3|         7|       31| 2/1/2020|  6087.0|\n",
            "|       4|         5|       31| 2/1/2019| 13828.6|\n",
            "|       5|         5|       31| 3/1/2018|26096.66|\n",
            "|       6|         5|       31| 4/1/2020| 18402.0|\n",
            "|       7|         5|       31| 6/1/2019|  7524.2|\n",
            "|       8|         5|      186| 6/1/2019| 12036.6|\n",
            "|       9|         7|       91| 6/1/2020| 2804.75|\n",
            "|      10|         2|      202| 6/1/2020|  8852.0|\n",
            "|      11|         7|       58| 8/1/2019|16545.25|\n",
            "|      12|         7|       58| 9/1/2018|11411.88|\n",
            "|      13|         7|       58|10/1/2019| 15829.7|\n",
            "|      14|         3|      249|12/1/2020| 6154.36|\n",
            "|      15|         4|      249|12/1/2018| 3255.08|\n",
            "|      16|         7|      192|13/1/2020| 2901.25|\n",
            "|      17|         2|       79|13/1/2019| 15829.7|\n",
            "|      18|        10|       79|14/1/2019|16996.36|\n",
            "|      19|        10|      191|14/1/2019|   155.0|\n",
            "|      20|         9|      218|15/1/2018|  131.75|\n",
            "+--------+----------+---------+---------+--------+\n",
            "only showing top 20 rows\n",
            "\n"
          ]
        }
      ]
    },
    {
      "cell_type": "code",
      "source": [
        "itensVendas = spark.read.load(\"/content/ItensVendas.parquet\")"
      ],
      "metadata": {
        "id": "pqDv2Ml5Ahz8"
      },
      "id": "pqDv2Ml5Ahz8",
      "execution_count": null,
      "outputs": []
    },
    {
      "cell_type": "code",
      "source": [
        "itensVendas.show()"
      ],
      "metadata": {
        "colab": {
          "base_uri": "https://localhost:8080/"
        },
        "id": "kiZLmsNQA3Ic",
        "outputId": "f2159896-8da2-4b52-baeb-a11885aef9e6"
      },
      "id": "kiZLmsNQA3Ic",
      "execution_count": null,
      "outputs": [
        {
          "output_type": "stream",
          "name": "stdout",
          "text": [
            "+---------+--------+----------+-------------+----------+--------+----------------+\n",
            "|ProdutoID|VendasID|Quantidade|ValorUnitario|ValorTotal|Desconto|TotalComDesconto|\n",
            "+---------+--------+----------+-------------+----------+--------+----------------+\n",
            "|        2|     400|         2|       9201.0|   18402.0| 6256,68|        12145.32|\n",
            "|        2|     385|         2|       9201.0|   18402.0| 5704,62|        12697.38|\n",
            "|        4|     395|         2|       6892.2|   13784.4| 5100,23|         8684.17|\n",
            "|        4|     367|         2|       6509.3|   13018.6| 4816,88|         8201.72|\n",
            "|        2|     380|         2|      7038.77|  14077.54| 4364,04|          9713.5|\n",
            "|        2|     346|         2|       8280.9|   16561.8| 4140,45|        12421.35|\n",
            "|        2|     339|         2|       8280.9|   16561.8| 3312,36|        13249.44|\n",
            "|        2|     397|         1|       9201.0|    9201.0| 3312,36|         5888.64|\n",
            "|        1|     346|         2|       7966.8|   15933.6| 3186,72|        12746.88|\n",
            "|        2|     264|         2|       8280.9|   16561.8| 3146,74|        13415.06|\n",
            "|        4|     355|         2|      5858.37|  11716.74| 3046,35|         8670.39|\n",
            "|        2|     376|         1|       8280.9|    8280.9| 2981,12|         5299.78|\n",
            "|        2|     374|         1|       9201.0|    9201.0| 2944,32|         6256.68|\n",
            "|        1|     397|         1|       7524.2|    7524.2| 2859,20|          4665.0|\n",
            "|        2|     303|         2|       8280.9|   16561.8| 2815,51|        13746.29|\n",
            "|        4|     358|         2|       6509.3|   13018.6| 2733,91|        10284.69|\n",
            "|        4|     374|         1|       7658.0|    7658.0| 2527,14|         5130.86|\n",
            "|        3|     336|         2|       4255.0|    8510.0| 2467,90|          6042.1|\n",
            "|        1|     399|         1|      6771.78|   6771.78| 2437,84|         4333.94|\n",
            "|        1|     292|         2|      6771.78|  13543.56| 2437,84|        11105.72|\n",
            "+---------+--------+----------+-------------+----------+--------+----------------+\n",
            "only showing top 20 rows\n",
            "\n"
          ]
        }
      ]
    },
    {
      "cell_type": "code",
      "source": [
        "produtos = spark.read.load(\"/content/Produtos.parquet\")"
      ],
      "metadata": {
        "id": "4t-cTelBA50b"
      },
      "id": "4t-cTelBA50b",
      "execution_count": null,
      "outputs": []
    },
    {
      "cell_type": "code",
      "source": [
        "produtos.show()"
      ],
      "metadata": {
        "colab": {
          "base_uri": "https://localhost:8080/"
        },
        "id": "k4aCkkKwBD78",
        "outputId": "18c8a1de-3429-4728-c229-c0c1a1fc60a8"
      },
      "id": "k4aCkkKwBD78",
      "execution_count": null,
      "outputs": [
        {
          "output_type": "stream",
          "name": "stdout",
          "text": [
            "+---------+--------------------+---------+\n",
            "|ProdutoID|             Produto|    Preco|\n",
            "+---------+--------------------+---------+\n",
            "|        1|Bicicleta Aro 29 ...|8.852,00 |\n",
            "|        2|Bicicleta Altools...|9.201,00 |\n",
            "|        3|Bicicleta Gts Adv...|4.255,00 |\n",
            "|        4|Bicicleta Trinc C...|7.658,00 |\n",
            "|        5|Bicicleta Gometws...|2.966,00 |\n",
            "|        6|Bicicleta Gometws...|2.955,00 |\n",
            "|        7|Capacete Gometws ...|  155,00 |\n",
            "|        8|Luva De Ciclismo ...|  188,00 |\n",
            "|        9|Bermuda Predactor...|  115,00 |\n",
            "|       10|Camiseta Predacto...|  135,00 |\n",
            "+---------+--------------------+---------+\n",
            "\n"
          ]
        }
      ]
    },
    {
      "cell_type": "code",
      "source": [
        "vendedores = spark.read.load(\"/content/Vendedores.parquet\")"
      ],
      "metadata": {
        "id": "nhj5fyfzBOvb"
      },
      "id": "nhj5fyfzBOvb",
      "execution_count": null,
      "outputs": []
    },
    {
      "cell_type": "code",
      "source": [
        "vendedores.show()"
      ],
      "metadata": {
        "colab": {
          "base_uri": "https://localhost:8080/"
        },
        "id": "4H4ZAzzqBUob",
        "outputId": "9497bf2c-c34f-4de6-f992-cfd96001a29c"
      },
      "id": "4H4ZAzzqBUob",
      "execution_count": null,
      "outputs": [
        {
          "output_type": "stream",
          "name": "stdout",
          "text": [
            "+----------+----------------+\n",
            "|VendedorID|        Vendedor|\n",
            "+----------+----------------+\n",
            "|         1|    Armando Lago|\n",
            "|         2|Capitolino Bahía|\n",
            "|         3|   Daniel Pirajá|\n",
            "|         4| Godo Capiperibe|\n",
            "|         5|  Hélio Liberato|\n",
            "|         6|   Iberê Lacerda|\n",
            "|         7|Jéssica Castelão|\n",
            "|         8| Napoleão Méndez|\n",
            "|         9|    Simão Rivero|\n",
            "|        10|  Tobias Furtado|\n",
            "+----------+----------------+\n",
            "\n"
          ]
        }
      ]
    },
    {
      "cell_type": "code",
      "source": [
        "# para criar no \"DW\" precisamos criar um banco de dados\n",
        "spark.sql(\"create database VendasVarejo\").show()"
      ],
      "metadata": {
        "colab": {
          "base_uri": "https://localhost:8080/"
        },
        "id": "2LrI6FGoBWyu",
        "outputId": "5d8831d3-26b1-45bb-a5f1-9afd09d7aa10"
      },
      "id": "2LrI6FGoBWyu",
      "execution_count": null,
      "outputs": [
        {
          "output_type": "stream",
          "name": "stdout",
          "text": [
            "++\n",
            "||\n",
            "++\n",
            "++\n",
            "\n"
          ]
        }
      ]
    },
    {
      "cell_type": "code",
      "source": [
        "# conectando ao banco\n",
        "spark.sql(\"use VendasVarejo\").show()"
      ],
      "metadata": {
        "colab": {
          "base_uri": "https://localhost:8080/"
        },
        "id": "U91pWQcmBhvr",
        "outputId": "ad86182b-7c28-476c-e4cf-83b16c8d5d89"
      },
      "id": "U91pWQcmBhvr",
      "execution_count": null,
      "outputs": [
        {
          "output_type": "stream",
          "name": "stdout",
          "text": [
            "++\n",
            "||\n",
            "++\n",
            "++\n",
            "\n"
          ]
        }
      ]
    },
    {
      "cell_type": "code",
      "source": [
        "# salvar os dataframes neste banco de dados\n",
        "clientes.write.saveAsTable(\"clientes\")"
      ],
      "metadata": {
        "id": "2MOcU2JpBmgj"
      },
      "id": "2MOcU2JpBmgj",
      "execution_count": null,
      "outputs": []
    },
    {
      "cell_type": "code",
      "source": [
        "vendas.write.saveAsTable(\"vendas\")"
      ],
      "metadata": {
        "id": "FHw2Y3l8B6RL"
      },
      "id": "FHw2Y3l8B6RL",
      "execution_count": null,
      "outputs": []
    },
    {
      "cell_type": "code",
      "source": [
        "itensVendas.write.saveAsTable(\"itensVendas\")"
      ],
      "metadata": {
        "id": "cZlvgwMaB88y"
      },
      "id": "cZlvgwMaB88y",
      "execution_count": null,
      "outputs": []
    },
    {
      "cell_type": "code",
      "source": [
        "produtos.write.saveAsTable(\"produtos\")"
      ],
      "metadata": {
        "id": "wYo7MpF9CA2D"
      },
      "id": "wYo7MpF9CA2D",
      "execution_count": null,
      "outputs": []
    },
    {
      "cell_type": "code",
      "source": [
        "vendedores.write.saveAsTable(\"vendedores\")"
      ],
      "metadata": {
        "id": "5Ldl82apCDjD"
      },
      "id": "5Ldl82apCDjD",
      "execution_count": null,
      "outputs": []
    },
    {
      "cell_type": "code",
      "source": [
        "# verificando as tabelas\n",
        "spark.sql(\"show tables\").show()"
      ],
      "metadata": {
        "colab": {
          "base_uri": "https://localhost:8080/"
        },
        "id": "TUTSVOjuCIJT",
        "outputId": "5f2d0d9d-6b87-479b-df03-d3edbb5c9692"
      },
      "id": "TUTSVOjuCIJT",
      "execution_count": null,
      "outputs": [
        {
          "output_type": "stream",
          "name": "stdout",
          "text": [
            "+------------+------------------+-----------+\n",
            "|   namespace|         tableName|isTemporary|\n",
            "+------------+------------------+-----------+\n",
            "|vendasvarejo|          clientes|      false|\n",
            "|vendasvarejo|       itensvendas|      false|\n",
            "|vendasvarejo|          produtos|      false|\n",
            "|vendasvarejo|            vendas|      false|\n",
            "|vendasvarejo|        vendedores|      false|\n",
            "|            |         desp_view|       true|\n",
            "|            |despachantes_view1|       true|\n",
            "+------------+------------------+-----------+\n",
            "\n"
          ]
        }
      ]
    },
    {
      "cell_type": "code",
      "source": [
        "# teste q podemos fazer\n",
        "spark.sql(\"select * from produtos\").show()"
      ],
      "metadata": {
        "colab": {
          "base_uri": "https://localhost:8080/"
        },
        "id": "_UQlrxhaCUFK",
        "outputId": "027ad80b-c17f-4df5-b75f-492b14f54c1c"
      },
      "id": "_UQlrxhaCUFK",
      "execution_count": null,
      "outputs": [
        {
          "output_type": "stream",
          "name": "stdout",
          "text": [
            "+---------+--------------------+---------+\n",
            "|ProdutoID|             Produto|    Preco|\n",
            "+---------+--------------------+---------+\n",
            "|        1|Bicicleta Aro 29 ...|8.852,00 |\n",
            "|        2|Bicicleta Altools...|9.201,00 |\n",
            "|        3|Bicicleta Gts Adv...|4.255,00 |\n",
            "|        4|Bicicleta Trinc C...|7.658,00 |\n",
            "|        5|Bicicleta Gometws...|2.966,00 |\n",
            "|        6|Bicicleta Gometws...|2.955,00 |\n",
            "|        7|Capacete Gometws ...|  155,00 |\n",
            "|        8|Luva De Ciclismo ...|  188,00 |\n",
            "|        9|Bermuda Predactor...|  115,00 |\n",
            "|       10|Camiseta Predacto...|  135,00 |\n",
            "+---------+--------------------+---------+\n",
            "\n"
          ]
        }
      ]
    },
    {
      "cell_type": "code",
      "source": [
        "# Questão 2:"
      ],
      "metadata": {
        "id": "g4Hfqn55Cjld"
      },
      "id": "g4Hfqn55Cjld",
      "execution_count": null,
      "outputs": []
    },
    {
      "cell_type": "code",
      "source": [
        "# indo para o banco 'vendasvarejo'\n",
        "spark.sql(\"use vendasvarejo\").show()"
      ],
      "metadata": {
        "colab": {
          "base_uri": "https://localhost:8080/"
        },
        "id": "FKA5EMxyClGz",
        "outputId": "b7578948-40db-406e-8929-1ba6e812633c"
      },
      "id": "FKA5EMxyClGz",
      "execution_count": null,
      "outputs": [
        {
          "output_type": "stream",
          "name": "stdout",
          "text": [
            "++\n",
            "||\n",
            "++\n",
            "++\n",
            "\n"
          ]
        }
      ]
    },
    {
      "cell_type": "code",
      "source": [
        "# 1 - inner join de 'itens vendas' com 'produto' 2 - # inner join de 'vendas' com 'itens vendas' 3 - 'vendedores' com 'vendas' 4 - 'cliente' com 'vendas\n",
        "spark.sql(\"select c.cliente, v.data, p.produto, vd.vendedor, iv.valortotal from itensvendas iv inner join produtos p on (p.produtoid = iv.produtoid) inner join vendas v on (v.vendasid = iv.vendasid) inner join vendedores vd on (vd.vendedorid = v.vendedorid) inner join clientes c on (c.clienteid = v.clienteid)\").show()"
      ],
      "metadata": {
        "colab": {
          "base_uri": "https://localhost:8080/"
        },
        "id": "V4J46QTjC1U4",
        "outputId": "592b6662-54a6-4e1c-a1b2-78f69297c9fe"
      },
      "id": "V4J46QTjC1U4",
      "execution_count": null,
      "outputs": [
        {
          "output_type": "stream",
          "name": "stdout",
          "text": [
            "+--------------------+----------+--------------------+----------------+----------+\n",
            "|             cliente|      data|             produto|        vendedor|valortotal|\n",
            "+--------------------+----------+--------------------+----------------+----------+\n",
            "|    Humberto Almeida|28/12/2019|Bicicleta Altools...|   Iberê Lacerda|   18402.0|\n",
            "|   Bárbara Magalhães|15/12/2020|Bicicleta Altools...|  Hélio Liberato|   18402.0|\n",
            "|        Artur Macedo|22/12/2018|Bicicleta Trinc C...|  Hélio Liberato|   13784.4|\n",
            "|    Dinarte Tabalipa| 1/12/2020|Bicicleta Trinc C...|   Daniel Pirajá|   13018.6|\n",
            "|      Humberto Lemes|12/12/2019|Bicicleta Altools...|    Simão Rivero|  14077.54|\n",
            "|    Antão Corte-Real|16/11/2018|Bicicleta Altools...|   Iberê Lacerda|   16561.8|\n",
            "|Cândido Sousa do ...|10/11/2018|Bicicleta Altools...|   Daniel Pirajá|   16561.8|\n",
            "|      Brígida Gusmão|23/12/2019|Bicicleta Altools...|  Hélio Liberato|    9201.0|\n",
            "|    Antão Corte-Real|16/11/2018|Bicicleta Aro 29 ...|   Iberê Lacerda|   15933.6|\n",
            "|   Gertrudes Rabello|  5/9/2019|Bicicleta Altools...|  Hélio Liberato|   16561.8|\n",
            "|       Adélio Lisboa|23/11/2019|Bicicleta Trinc C...|  Hélio Liberato|  11716.74|\n",
            "|   Francisca Ramallo| 9/12/2020|Bicicleta Altools...|Jéssica Castelão|    8280.9|\n",
            "|       Adélio Lisboa| 5/12/2019|Bicicleta Altools...|    Armando Lago|    9201.0|\n",
            "|      Brígida Gusmão|23/12/2019|Bicicleta Aro 29 ...|  Hélio Liberato|    7524.2|\n",
            "|    Antão Corte-Real|15/10/2020|Bicicleta Altools...|    Armando Lago|   16561.8|\n",
            "|Cândido Sousa do ...|24/11/2018|Bicicleta Trinc C...|Jéssica Castelão|   13018.6|\n",
            "|       Adélio Lisboa| 5/12/2019|Bicicleta Trinc C...|    Armando Lago|    7658.0|\n",
            "|     Adolfo Patrício| 7/11/2020|Bicicleta Gts Adv...|  Hélio Liberato|    8510.0|\n",
            "|      Brígida Gusmão|25/12/2019|Bicicleta Aro 29 ...| Godo Capiperibe|   6771.78|\n",
            "|       Adélio Lisboa| 29/9/2020|Bicicleta Aro 29 ...|Jéssica Castelão|  13543.56|\n",
            "+--------------------+----------+--------------------+----------------+----------+\n",
            "only showing top 20 rows\n",
            "\n"
          ]
        }
      ]
    }
  ],
  "metadata": {
    "kernelspec": {
      "display_name": "Python 3 (ipykernel)",
      "language": "python",
      "name": "python3"
    },
    "language_info": {
      "codemirror_mode": {
        "name": "ipython",
        "version": 3
      },
      "file_extension": ".py",
      "mimetype": "text/x-python",
      "name": "python",
      "nbconvert_exporter": "python",
      "pygments_lexer": "ipython3",
      "version": "3.8.10"
    },
    "colab": {
      "provenance": [],
      "collapsed_sections": [
        "J7Vm6tjpQArv",
        "861nJd_yBNQs",
        "0azo_Lbz-QtX"
      ]
    }
  },
  "nbformat": 4,
  "nbformat_minor": 5
}